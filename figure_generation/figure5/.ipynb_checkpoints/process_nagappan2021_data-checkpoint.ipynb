{
 "cells": [
  {
   "cell_type": "code",
   "execution_count": 1,
   "id": "9bb36d89-e0c6-4741-91e5-b4069a6724a5",
   "metadata": {
    "tags": []
   },
   "outputs": [],
   "source": [
    "import sys\n",
    "sys.path.append(r'C:\\Users\\rmb55\\most_updated_pattern_stim\\pattern_stim_analysis\\paper\\pattern_stim_code\\analysis_packages')\n",
    "import numpy as np\n",
    "import os\n",
    "import scipy.io\n",
    "import h5py\n",
    "import matplotlib.pyplot as plt\n",
    "from scipy.signal import hilbert, chirp\n",
    "from scipy import signal\n",
    "import importlib\n",
    "from pathlib import Path\n",
    "import PGanalysis\n",
    "import phase_analysis\n",
    "import odor_phase_analysis"
   ]
  },
  {
   "cell_type": "markdown",
   "id": "cebb9daa-5ff1-41f0-a596-f73041c51f2b",
   "metadata": {},
   "source": [
    "## This notebook contains code used to process and format the data appearing in figure 5. \n",
    "### Experiment description:\n",
    "### - 10 odors at three dilutions (.03, .3, and 1% v/v) were presented in psuedorandom order through a nose-port in awake, headfixed mice\n",
    "### - spiking responses were recorded in PCx using 32-channel silicon probes, and individual units were isolated using Spyking Circus.\n",
    "### - for this analysis, only responses to the highest-concentration were used.\n",
    "### - for a detailed experimental protocol see Nagappan & Franks, 2021"
   ]
  },
  {
   "cell_type": "markdown",
   "id": "80665b70-002c-4c83-8431-e1ea9471744f",
   "metadata": {},
   "source": [
    "### First, define the paths for each experiment. "
   ]
  },
  {
   "cell_type": "code",
   "execution_count": 3,
   "id": "6d839423-ba63-43d6-8415-9b6b5cf77520",
   "metadata": {
    "tags": []
   },
   "outputs": [],
   "source": [
    "base_path = r'S:\\All_Staff\\robin\\Shiva_data\\Nagappan2021_data\\eLife2021_DryadData\\eLife2021_DryadData\\Ntng'"
   ]
  },
  {
   "cell_type": "code",
   "execution_count": 4,
   "id": "b55ef0a3-21ce-484b-9a00-d10dc3097e51",
   "metadata": {
    "tags": []
   },
   "outputs": [],
   "source": [
    "expt_folders = os.listdir(base_path)[0:-1]"
   ]
  },
  {
   "cell_type": "code",
   "execution_count": null,
   "id": "f9efd32c-75fe-4781-bb6e-24ffe7e8eec8",
   "metadata": {},
   "outputs": [],
   "source": [
    "# For each experiment, load the time-aligned rasters \n",
    "raster_align_load_paths = []\n",
    "for expt in expt_folders:\n",
    "    load_path = os.path.join(base_path, expt, 'Ntng_RasterAlign')\n",
    "    raster_align_load_paths.append(load_path)"
   ]
  },
  {
   "cell_type": "code",
   "execution_count": null,
   "id": "0da952c0-f699-4069-be64-7e3526cb7e73",
   "metadata": {},
   "outputs": [],
   "source": [
    "# for each experiment, load the respiration data sampled at 2.5kHz\n",
    "resp_load_paths = []\n",
    "for expt in expt_folders:\n",
    "    load_path = os.path.join(base_path, expt, 'Ntng_resp')\n",
    "    resp_load_paths.append(load_path)"
   ]
  },
  {
   "cell_type": "code",
   "execution_count": null,
   "id": "76013e17-1d7f-403d-890a-88aeda805289",
   "metadata": {},
   "outputs": [],
   "source": [
    "# for each experiment, load the time of the first inhalation after trial onset\n",
    "PREXtimes_load_paths = []\n",
    "for expt in expt_folders:\n",
    "    load_path = os.path.join(base_path, expt, 'Ntng_PREXtimes')\n",
    "    PREXtimes_load_paths.append(load_path)"
   ]
  },
  {
   "cell_type": "code",
   "execution_count": null,
   "id": "1da014d0-35b0-49fc-8a88-35aa5465834f",
   "metadata": {},
   "outputs": [],
   "source": [
    "# for each experiment, load the time of final-valve opening for each trial \n",
    "FVSwitchTimes_load_paths = []\n",
    "for expt in expt_folders:\n",
    "    load_path = os.path.join(base_path, expt, 'Ntng_FVSwitchTimes')\n",
    "    FVSwitchTimes_load_paths.append(load_path)"
   ]
  },
  {
   "cell_type": "code",
   "execution_count": null,
   "id": "60118cd9-4fbf-4780-a04b-59831913416b",
   "metadata": {},
   "outputs": [],
   "source": [
    "# for each experiment, load the data from the hdf5 file containing all spike times for each cell across the experiment\n",
    "tsecs_load_paths = []\n",
    "for expt in expt_folders:\n",
    "    search_folder = os.path.join(base_path, expt)\n",
    "    for file in os.listdir(search_folder):\n",
    "        if '.hdf5' in file:\n",
    "            load_path = os.path.join(search_folder, file)\n",
    "            tsecs_load_paths.append(load_path)"
   ]
  },
  {
   "cell_type": "code",
   "execution_count": null,
   "id": "8b694500-ce4a-492e-a049-62101f7735ea",
   "metadata": {},
   "outputs": [],
   "source": [
    "n_expts = len(tsecs_load_paths)"
   ]
  },
  {
   "cell_type": "code",
   "execution_count": null,
   "id": "8c6edbb1-daa3-4f1d-ad8b-a1e4d25b0bf3",
   "metadata": {},
   "outputs": [],
   "source": [
    "all_file_paths = {'raster_paths':raster_align_load_paths, 'resp_trace_paths':resp_load_paths, 'trial_start_time_paths':PREXtimes_load_paths, 'final_valve_switch_times':FVSwitchTimes_load_paths, 'all_spike_times_paths':tsecs_load_paths}"
   ]
  },
  {
   "cell_type": "markdown",
   "id": "b1ab8911-2507-4214-b345-131d3c03136f",
   "metadata": {},
   "source": [
    "### Next, get the concatenated spontaneous firing rates across experiments "
   ]
  },
  {
   "cell_type": "code",
   "execution_count": null,
   "id": "7f1ae164-cee2-45f4-b0b5-73dc41b8ea83",
   "metadata": {},
   "outputs": [],
   "source": [
    "all_radius_low_expt = []\n",
    "all_radius_high_expt = []\n",
    "all_phase_hist_expt = []\n",
    "spontaneous_phase_locked_expt = []\n",
    "total_percent_spikes_exceeding_expt = []\n",
    "resp_tuning_rate_expt = []\n",
    "pre_post_inhalation_mat_expt = []\n",
    "spike_rasters_expt = []\n",
    "time_aligned_PSTHs_expt = []\n",
    "phase_aligned_rasters_expt = []\n",
    "phase_warped_PSTHs_expt = []"
   ]
  },
  {
   "cell_type": "code",
   "execution_count": null,
   "id": "de355184-647c-4a46-bd73-78973025f136",
   "metadata": {},
   "outputs": [],
   "source": [
    "# extract and process the relevant data for each experiment\n",
    "\n",
    "for expt in range(n_expts):\n",
    "    \n",
    "    if expt != 13: # exclude experiment 13 - something happened and there is wonky formatting of data \n",
    "\n",
    "        print('analyzing experiment ' + str(expt))\n",
    "\n",
    "        # load the spikes for each cell\n",
    "        tsecs = phase_analysis.get_tsecs([all_file_paths['all_spike_times_paths'][expt]])\n",
    "\n",
    "        # load the final valve switch times for each trial\n",
    "        all_valve_times = scipy.io.loadmat(all_file_paths['final_valve_switch_times'][expt])['FVSwitchTimes']\n",
    "\n",
    "        # load the respiration data for each experiment\n",
    "        resp_array = np.squeeze(scipy.io.loadmat(all_file_paths['resp_trace_paths'][expt])['resp_array'])\n",
    "\n",
    "        # load the time-aligned rasters for each trial\n",
    "        raster_align = scipy.io.loadmat(all_file_paths['raster_paths'][expt])['RasterAlign']\n",
    "\n",
    "        # load the times of the first inhalation after final valve opening for each trial\n",
    "        PREXtimes = scipy.io.loadmat(all_file_paths['trial_start_time_paths'][expt])['PREXTimes'][:,2] #index 2 here corresponds to highest odor conc. trials \n",
    "\n",
    "        # get a flattened list of all final valve open times\n",
    "        all_times = []\n",
    "        for valve_times in all_valve_times.ravel():\n",
    "            times = valve_times[0]\n",
    "            all_times.append(times)\n",
    "        all_stim_times = np.sort([time for times in all_times for time in times])\n",
    "\n",
    "        # get spontaneous spikes by filtering out all spikes occuring in a 2-second window after final valve opening\n",
    "        tsecs_spontaneous = []\n",
    "        for cell in tsecs:\n",
    "            tsecs_spontaneous.append(odor_phase_analysis.filter_spike_times(cell,all_stim_times))\n",
    "        \n",
    "        # perform a hilbert tranform on the respiration data to derive instantaneous phase of the respiration trace. \n",
    "        instantaneous_phase_corrected = odor_phase_analysis.hilbert_transform_resp(resp_array)\n",
    "\n",
    "        # upsample the hilbert transformed respiration data to match the sampling rate of the neural data\n",
    "        upsampled_hilbert_resp = odor_phase_analysis.upsample_resp(instantaneous_phase_corrected)\n",
    "\n",
    "        # define a set of phase bins to bin spikes in the respiration cycle\n",
    "        bins = np.arange(0,np.radians(360)+np.radians(9), np.radians(9))\n",
    "\n",
    "        # to assess phase-locking, compute a confidence interval representing the null distribution of spikes over the respiration cycle by shuffling the respiration array\n",
    "        bootstrapped_phase_preferences = odor_phase_analysis.get_phase_locking_bootstrap(upsampled_hilbert_resp, tsecs_spontaneous, bins)\n",
    "\n",
    "        # return the 5th and 95th percentile spike-phase histograms generated from shuffled respiration data, as well as the true spike-phase histogram.\n",
    "        [all_radius_low, all_radius_high, all_phase_hist, tuned, total_percent_spikes_exceeding] = odor_phase_analysis.get_phase_locked_cells(tsecs_spontaneous, upsampled_hilbert_resp, bootstrapped_phase_preferences, bins)\n",
    "\n",
    "        # for each cell, return the spontaneous firing rate as a function of phase bin (both raw and normalized to max). \n",
    "        [resp_tuning_scaled, resp_tuning_rate, duration_in_resp_bin] = odor_phase_analysis.get_spontaneous_tuning(tsecs_spontaneous, upsampled_hilbert_resp, bins)\n",
    "        \n",
    "        # get the indices of all inhalations occuring across the experiment\n",
    "        all_inhalations = odor_phase_analysis.get_all_inhalations(upsampled_hilbert_resp)\n",
    "\n",
    "        # for each trial, get the indices of the 20 inhalations surrounding the first inhalation after odor onset, as well as the index of the first inhalation after odor onset. \n",
    "        pre_post_inhalation_mat, trial_type_inhalation_idxs = odor_phase_analysis.get_pre_post_inhalation_mat(PREXtimes, all_inhalations)\n",
    "\n",
    "        # get the time-aligned spike rasters for each trial\n",
    "        spike_rasters = odor_phase_analysis.format_spike_rasters(raster_align)\n",
    "\n",
    "        # get the time-aligned PSTH for each trial\n",
    "        time_aligned_PSTHs = odor_phase_analysis.get_time_aligned_psth(spike_rasters, window_std_ms = 10)\n",
    "\n",
    "        # get the phase-warped rasters for each trial\n",
    "        phase_aligned_rasters, inhalation_mat_trial_type = odor_phase_analysis.get_phase_aligned_rasters(spike_rasters, upsampled_hilbert_resp, trial_type_inhalation_idxs, pre_post_inhalation_mat)\n",
    "\n",
    "        # get the phase-warped psths for each trial\n",
    "        phase_warped_PSTHs = odor_phase_analysis.get_phase_warped_PSTHs(phase_aligned_rasters, inhalation_mat_trial_type, window_std_ms = 10)\n",
    "\n",
    "        # append the data for each experiment \n",
    "        all_radius_low_expt.append(all_radius_low)\n",
    "        all_radius_high_expt.append(all_radius_high)\n",
    "        all_phase_hist_expt.append(all_phase_hist)\n",
    "        spontaneous_phase_locked_expt.append(tuned)\n",
    "        total_percent_spikes_exceeding_expt.append(total_percent_spikes_exceeding)\n",
    "        resp_tuning_rate_expt.append(resp_tuning_rate)\n",
    "        pre_post_inhalation_mat_expt.append(pre_post_inhalation_mat)\n",
    "        spike_rasters_expt.append(spike_rasters)\n",
    "        time_aligned_PSTHs_expt.append(time_aligned_PSTHs)\n",
    "        phase_aligned_rasters_expt.append(phase_aligned_rasters)\n",
    "        phase_warped_PSTHs_expt.append(phase_warped_PSTHs)"
   ]
  },
  {
   "cell_type": "code",
   "execution_count": null,
   "id": "2e67a44d-545a-449a-a7a4-b5decb5fd415",
   "metadata": {},
   "outputs": [],
   "source": [
    "# create a dictionary to save the relevant fields \n",
    "shiva_odor_responses = {'all_radius_low_expt':all_radius_low_expt, 'all_radius_high_expt':all_radius_high_expt, 'all_phase_hist_expt':all_phase_hist_expt, 'spontaneous_phase_locked_expt':spontaneous_phase_locked_expt, \n",
    "                        'total_percent_spikes_exceeding_expt':total_percent_spikes_exceeding_expt, 'resp_tuning_rate_expt':resp_tuning_rate_expt, 'trial_type_inhalation_idxs_expt':trial_type_inhalation_idxs_expt, 'spike_rasters_expt':spike_rasters_expt, 'time_aligned_PSTHs_expt':time_aligned_PSTHs_expt, \n",
    "                        'phase_aligned_rasters_expt': phase_aligned_rasters_expt, 'phase_warped_PSTHs_expt':phase_warped_PSTHs_expt} "
   ]
  },
  {
   "cell_type": "code",
   "execution_count": null,
   "id": "952d9a5f-7ac6-424f-a064-888d857f147b",
   "metadata": {},
   "outputs": [],
   "source": [
    "# save the data \n",
    "np.save('shiva_odor_responses', [shiva_odor_responses])"
   ]
  }
 ],
 "metadata": {
  "kernelspec": {
   "display_name": "Python 3 (ipykernel)",
   "language": "python",
   "name": "python3"
  },
  "language_info": {
   "codemirror_mode": {
    "name": "ipython",
    "version": 3
   },
   "file_extension": ".py",
   "mimetype": "text/x-python",
   "name": "python",
   "nbconvert_exporter": "python",
   "pygments_lexer": "ipython3",
   "version": "3.7.16"
  }
 },
 "nbformat": 4,
 "nbformat_minor": 5
}
