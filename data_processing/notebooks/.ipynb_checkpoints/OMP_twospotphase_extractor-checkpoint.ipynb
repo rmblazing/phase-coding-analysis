{
 "cells": [
  {
   "cell_type": "code",
   "execution_count": 2,
   "metadata": {
    "tags": []
   },
   "outputs": [],
   "source": [
    "from python_pattern_stim_analysis import two_spot_processor\n",
    "import importlib\n",
    "import numpy as np"
   ]
  },
  {
   "cell_type": "markdown",
   "metadata": {},
   "source": [
    "## Date: 230225 \n",
    "- mouse: P159\n",
    "- genotype: OMP-ChRV+/-\n",
    "- experiment: 2 spot stimulation, phase shift\n",
    "- optostim: false"
   ]
  },
  {
   "cell_type": "code",
   "execution_count": 9,
   "metadata": {},
   "outputs": [],
   "source": [
    "datafile = [r'Z:\\robin\\expt_sets\\pattern_stim\\recordings\\230225\\2023-02-25_09-39-05\\experiment1\\recording1\\sc\\230225-001_bank1\\230225-001_bank1.result-1.hdf5', r'Z:\\robin\\expt_sets\\pattern_stim\\recordings\\230225\\2023-02-25_09-39-05\\experiment1\\recording1\\sc\\230225-001_bank2\\230225-001_bank2.result-1.hdf5'] \n",
    "mtrigger_file = r'Z:\\robin\\expt_sets\\pattern_stim\\recordings\\230225\\2023-02-25_09-39-05\\experiment1\\recording1\\continuous\\Rhythm_FPGA-100.0\\230225_mtrigger.dat'\n",
    "resp_file = r'Z:\\robin\\expt_sets\\pattern_stim\\recordings\\230225\\2023-02-25_09-39-05\\experiment1\\recording1\\continuous\\Rhythm_FPGA-100.0\\230225_breath.dat'\n",
    "laser_trigger_file = r'Z:\\robin\\expt_sets\\pattern_stim\\recordings\\230225\\2023-02-25_09-39-05\\experiment1\\recording1\\continuous\\Rhythm_FPGA-100.0\\230225_LEDtrigger.dat'\n",
    "laser_trigger_file2 = r'Z:\\robin\\expt_sets\\pattern_stim\\recordings\\230225\\2023-02-25_09-39-05\\experiment1\\recording1\\continuous\\Rhythm_FPGA-100.0\\230225_LEDtrigger2.dat'\n",
    "metadata_file = r'Z:\\robin\\expt_sets\\pattern_stim\\metadata\\230225\\P159_2023_2_25_94012'"
   ]
  },
  {
   "cell_type": "code",
   "execution_count": 10,
   "metadata": {},
   "outputs": [
    {
     "data": {
      "text/plain": [
       "<module 'python_pattern_stim_analysis.two_spot_processor' from 'c:\\\\miniconda3\\\\envs\\\\pattern-stim\\\\lib\\\\site-packages\\\\python_pattern_stim_analysis\\\\two_spot_processor.py'>"
      ]
     },
     "execution_count": 10,
     "metadata": {},
     "output_type": "execute_result"
    }
   ],
   "source": [
    "importlib.reload(two_spot_processor)"
   ]
  },
  {
   "cell_type": "code",
   "execution_count": 11,
   "metadata": {},
   "outputs": [
    {
     "name": "stderr",
     "output_type": "stream",
     "text": [
      "c:\\miniconda3\\envs\\pattern-stim\\lib\\site-packages\\python_pattern_stim_analysis\\PGanalysis.py:53: VisibleDeprecationWarning: Creating an ndarray from ragged nested sequences (which is a list-or-tuple of lists-or-tuples-or ndarrays with different lengths or shapes) is deprecated. If you meant to do this, you must specify 'dtype=object' when creating the ndarray\n",
      "  self.tsecs = np.array(self.tsecs)\n"
     ]
    },
    {
     "name": "stdout",
     "output_type": "stream",
     "text": [
      "frames good\n"
     ]
    }
   ],
   "source": [
    "spot_processor_230225 = two_spot_processor.extract_data(datafile, mtrigger_file, resp_file, metadata_file, laser_trigger_file, optostim = False)"
   ]
  },
  {
   "cell_type": "code",
   "execution_count": 12,
   "metadata": {},
   "outputs": [
    {
     "name": "stderr",
     "output_type": "stream",
     "text": [
      "c:\\miniconda3\\envs\\pattern-stim\\lib\\site-packages\\python_pattern_stim_analysis\\two_spot_processor.py:89: VisibleDeprecationWarning: Creating an ndarray from ragged nested sequences (which is a list-or-tuple of lists-or-tuples-or ndarrays with different lengths or shapes) is deprecated. If you meant to do this, you must specify 'dtype=object' when creating the ndarray\n",
      "  trial_type_raster = np.array(self.trial_type_raster)[:,sequence_timing_indices,:]\n"
     ]
    },
    {
     "name": "stdout",
     "output_type": "stream",
     "text": [
      "data extraction complete, data file saved\n"
     ]
    }
   ],
   "source": [
    "savepath = r'C:\\Users\\robin\\pattern_stim_analysis\\breath-triggered_sequence_aPCx\\two_spot_stim\\phase_shift\\controls\\summary_data\\230225_control.npy'\n",
    "sequence_timing_indices = np.arange(65)\n",
    "spot_processor_230225.save_expt_data(savepath, sequence_timing_indices, blank_control_index = 64, window_end = .3)"
   ]
  },
  {
   "cell_type": "code",
   "execution_count": 13,
   "metadata": {},
   "outputs": [],
   "source": [
    "del spot_processor_230225"
   ]
  },
  {
   "cell_type": "markdown",
   "metadata": {},
   "source": [
    "## Date: 230227\n",
    "- mouse: P159\n",
    "- genotype: OMP-ChRV+/-\n",
    "- experiment: 2 spot stimulation, phase shift\n",
    "- optostim: false"
   ]
  },
  {
   "cell_type": "code",
   "execution_count": 14,
   "metadata": {},
   "outputs": [],
   "source": [
    "datafile = [r'Z:\\robin\\expt_sets\\pattern_stim\\recordings\\230227\\2023-02-27_14-13-05\\experiment1\\recording2\\sc\\230227-001_bank1\\230227-001_bank1.result-1.hdf5'] \n",
    "mtrigger_file = r'Z:\\robin\\expt_sets\\pattern_stim\\recordings\\230227\\2023-02-27_14-13-05\\experiment1\\recording2\\continuous\\Rhythm_FPGA-100.0\\230227_mtrigger.dat'\n",
    "resp_file = r'Z:\\robin\\expt_sets\\pattern_stim\\recordings\\230227\\2023-02-27_14-13-05\\experiment1\\recording2\\continuous\\Rhythm_FPGA-100.0\\230227_breath.dat'\n",
    "laser_trigger_file = r'Z:\\robin\\expt_sets\\pattern_stim\\recordings\\230227\\2023-02-27_14-13-05\\experiment1\\recording2\\continuous\\Rhythm_FPGA-100.0\\230227_LEDtrigger.dat'\n",
    "laser_trigger_file2 = r'Z:\\robin\\expt_sets\\pattern_stim\\recordings\\230227\\2023-02-27_14-13-05\\experiment1\\recording2\\continuous\\Rhythm_FPGA-100.0\\230227_LEDtrigger2.dat'\n",
    "metadata_file = r'Z:\\robin\\expt_sets\\pattern_stim\\metadata\\230227\\P159_2023_2_27_142031'"
   ]
  },
  {
   "cell_type": "code",
   "execution_count": 15,
   "metadata": {},
   "outputs": [
    {
     "data": {
      "text/plain": [
       "<module 'python_pattern_stim_analysis.two_spot_processor' from 'c:\\\\miniconda3\\\\envs\\\\pattern-stim\\\\lib\\\\site-packages\\\\python_pattern_stim_analysis\\\\two_spot_processor.py'>"
      ]
     },
     "execution_count": 15,
     "metadata": {},
     "output_type": "execute_result"
    }
   ],
   "source": [
    "importlib.reload(two_spot_processor)"
   ]
  },
  {
   "cell_type": "code",
   "execution_count": 16,
   "metadata": {},
   "outputs": [
    {
     "name": "stdout",
     "output_type": "stream",
     "text": [
      "frames good\n"
     ]
    }
   ],
   "source": [
    "spot_processor_230227 = two_spot_processor.extract_data(datafile, mtrigger_file, resp_file, metadata_file, laser_trigger_file, optostim = False)"
   ]
  },
  {
   "cell_type": "code",
   "execution_count": 17,
   "metadata": {},
   "outputs": [
    {
     "name": "stdout",
     "output_type": "stream",
     "text": [
      "data extraction complete, data file saved\n"
     ]
    }
   ],
   "source": [
    "savepath = r'C:\\Users\\robin\\pattern_stim_analysis\\breath-triggered_sequence_aPCx\\two_spot_stim\\phase_shift\\controls\\summary_data\\230227_control.npy'\n",
    "sequence_timing_indices = np.arange(65)\n",
    "spot_processor_230227.save_expt_data(savepath, sequence_timing_indices, blank_control_index = 64, window_end = .3)"
   ]
  },
  {
   "cell_type": "code",
   "execution_count": 18,
   "metadata": {},
   "outputs": [],
   "source": [
    "del spot_processor_230227"
   ]
  },
  {
   "cell_type": "markdown",
   "metadata": {},
   "source": [
    "## Date: 230301\n",
    "- mouse: P160\n",
    "- genotype: OMP-ChRV+/-\n",
    "- experiment: 2 spot stimulation, phase shift\n",
    "- optostim: false"
   ]
  },
  {
   "cell_type": "code",
   "execution_count": 19,
   "metadata": {},
   "outputs": [],
   "source": [
    "datafile = [r'Z:\\robin\\expt_sets\\pattern_stim\\recordings\\230301\\2023-03-01_11-10-26\\experiment1\\recording1\\sc\\230301-001_bank1\\230301-001_bank1.result-1.hdf5',r'Z:\\robin\\expt_sets\\pattern_stim\\recordings\\230301\\2023-03-01_11-10-26\\experiment1\\recording1\\sc\\230301-001_bank2\\230301-001_bank2.result-1.hdf5'] \n",
    "mtrigger_file = r'Z:\\robin\\expt_sets\\pattern_stim\\recordings\\230301\\2023-03-01_11-10-26\\experiment1\\recording1\\continuous\\Rhythm_FPGA-100.0\\230301_mtrigger.dat'\n",
    "resp_file = r'Z:\\robin\\expt_sets\\pattern_stim\\recordings\\230301\\2023-03-01_11-10-26\\experiment1\\recording1\\continuous\\Rhythm_FPGA-100.0\\230301_breath.dat'\n",
    "laser_trigger_file = r'Z:\\robin\\expt_sets\\pattern_stim\\recordings\\230301\\2023-03-01_11-10-26\\experiment1\\recording1\\continuous\\Rhythm_FPGA-100.0\\230301_LEDtrigger.dat'\n",
    "laser_trigger_file2 = r'Z:\\robin\\expt_sets\\pattern_stim\\recordings\\230301\\2023-03-01_11-10-26\\experiment1\\recording1\\continuous\\Rhythm_FPGA-100.0\\230301_LEDtrigger2.dat'\n",
    "metadata_file = r'Z:\\robin\\expt_sets\\pattern_stim\\metadata\\230301\\P160_2023_3_1_111133'"
   ]
  },
  {
   "cell_type": "code",
   "execution_count": 20,
   "metadata": {},
   "outputs": [
    {
     "data": {
      "text/plain": [
       "<module 'python_pattern_stim_analysis.two_spot_processor' from 'c:\\\\miniconda3\\\\envs\\\\pattern-stim\\\\lib\\\\site-packages\\\\python_pattern_stim_analysis\\\\two_spot_processor.py'>"
      ]
     },
     "execution_count": 20,
     "metadata": {},
     "output_type": "execute_result"
    }
   ],
   "source": [
    "importlib.reload(two_spot_processor)"
   ]
  },
  {
   "cell_type": "code",
   "execution_count": 21,
   "metadata": {},
   "outputs": [
    {
     "name": "stdout",
     "output_type": "stream",
     "text": [
      "frames good\n"
     ]
    }
   ],
   "source": [
    "spot_processor_230301 = two_spot_processor.extract_data(datafile, mtrigger_file, resp_file, metadata_file, laser_trigger_file, optostim = False)"
   ]
  },
  {
   "cell_type": "code",
   "execution_count": 22,
   "metadata": {},
   "outputs": [
    {
     "name": "stdout",
     "output_type": "stream",
     "text": [
      "data extraction complete, data file saved\n"
     ]
    }
   ],
   "source": [
    "savepath = r'C:\\Users\\robin\\pattern_stim_analysis\\breath-triggered_sequence_aPCx\\two_spot_stim\\phase_shift\\controls\\summary_data\\230301_control.npy'\n",
    "sequence_timing_indices = np.arange(65)\n",
    "spot_processor_230301.save_expt_data(savepath, sequence_timing_indices, blank_control_index = 64, window_end = .3)"
   ]
  },
  {
   "cell_type": "code",
   "execution_count": 23,
   "metadata": {},
   "outputs": [],
   "source": [
    "del spot_processor_230301"
   ]
  },
  {
   "cell_type": "markdown",
   "metadata": {},
   "source": [
    "## Date: 230302\n",
    "- mouse: P160\n",
    "- genotype: OMP-ChRV+/-\n",
    "- experiment: 2 spot stimulation, phase shift\n",
    "- optostim: false"
   ]
  },
  {
   "cell_type": "code",
   "execution_count": 4,
   "metadata": {
    "tags": []
   },
   "outputs": [],
   "source": [
    "datafile = [r'Z:\\robin\\expt_sets\\pattern_stim\\recordings\\230302\\2023-03-02_11-43-28\\experiment1\\recording2\\sc\\230302-001_bank1\\230302-001_bank1.result-1.hdf5',\n",
    "            r'Z:\\robin\\expt_sets\\pattern_stim\\recordings\\230302\\2023-03-02_11-43-28\\experiment1\\recording2\\sc\\230302-001_bank2\\230302-001_bank2.result-1.hdf5'] \n",
    "mtrigger_file = r'Z:\\robin\\expt_sets\\pattern_stim\\recordings\\230302\\2023-03-02_11-43-28\\experiment1\\recording2\\continuous\\Rhythm_FPGA-100.0\\230302_mtrigger.dat'\n",
    "resp_file = r'Z:\\robin\\expt_sets\\pattern_stim\\recordings\\230302\\2023-03-02_11-43-28\\experiment1\\recording2\\continuous\\Rhythm_FPGA-100.0\\230302_breath.dat'\n",
    "laser_trigger_file = r'Z:\\robin\\expt_sets\\pattern_stim\\recordings\\230302\\2023-03-02_11-43-28\\experiment1\\recording2\\continuous\\Rhythm_FPGA-100.0\\230302_LEDtrigger.dat'\n",
    "laser_trigger_file2 = r'Z:\\robin\\expt_sets\\pattern_stim\\recordings\\230302\\2023-03-02_11-43-28\\experiment1\\recording2\\continuous\\Rhythm_FPGA-100.0\\230302_LEDtrigger2.dat'\n",
    "metadata_file = r'Z:\\robin\\expt_sets\\pattern_stim\\metadata\\230302\\P160_2023_3_2_11484'"
   ]
  },
  {
   "cell_type": "code",
   "execution_count": 5,
   "metadata": {
    "tags": []
   },
   "outputs": [
    {
     "data": {
      "text/plain": [
       "<module 'python_pattern_stim_analysis.two_spot_processor' from 'C:\\\\Users\\\\rmb55\\\\virtual_environments\\\\pattern-stim3\\\\lib\\\\site-packages\\\\python_pattern_stim_analysis\\\\two_spot_processor.py'>"
      ]
     },
     "execution_count": 5,
     "metadata": {},
     "output_type": "execute_result"
    }
   ],
   "source": [
    "importlib.reload(two_spot_processor)"
   ]
  },
  {
   "cell_type": "code",
   "execution_count": 6,
   "metadata": {
    "tags": []
   },
   "outputs": [
    {
     "ename": "FileNotFoundError",
     "evalue": "[Errno 2] Unable to open file (unable to open file: name = 'Z:\\robin\\expt_sets\\pattern_stim\\recordings\\230302\\2023-03-02_11-43-28\\experiment1\\recording2\\sc\\230302-001_bank2\\230302-001_bank2.result-1.hdf5', errno = 2, error message = 'No such file or directory', flags = 0, o_flags = 0)",
     "output_type": "error",
     "traceback": [
      "\u001b[1;31m---------------------------------------------------------------------------\u001b[0m",
      "\u001b[1;31mFileNotFoundError\u001b[0m                         Traceback (most recent call last)",
      "\u001b[1;32m~\\AppData\\Local\\Temp\\ipykernel_17676\\2995913008.py\u001b[0m in \u001b[0;36m<module>\u001b[1;34m\u001b[0m\n\u001b[1;32m----> 1\u001b[1;33m \u001b[0mspot_processor_230302\u001b[0m \u001b[1;33m=\u001b[0m \u001b[0mtwo_spot_processor\u001b[0m\u001b[1;33m.\u001b[0m\u001b[0mextract_data\u001b[0m\u001b[1;33m(\u001b[0m\u001b[0mdatafile\u001b[0m\u001b[1;33m,\u001b[0m \u001b[0mmtrigger_file\u001b[0m\u001b[1;33m,\u001b[0m \u001b[0mresp_file\u001b[0m\u001b[1;33m,\u001b[0m \u001b[0mmetadata_file\u001b[0m\u001b[1;33m,\u001b[0m \u001b[0mlaser_trigger_file\u001b[0m\u001b[1;33m,\u001b[0m \u001b[0moptostim\u001b[0m \u001b[1;33m=\u001b[0m \u001b[1;32mFalse\u001b[0m\u001b[1;33m)\u001b[0m\u001b[1;33m\u001b[0m\u001b[1;33m\u001b[0m\u001b[0m\n\u001b[0m",
      "\u001b[1;32m~\\virtual_environments\\pattern-stim3\\lib\\site-packages\\python_pattern_stim_analysis\\two_spot_processor.py\u001b[0m in \u001b[0;36m__init__\u001b[1;34m(self, datafile, mtrigger_file, resp_file, metadata_file, laser_trigger_file, optostim)\u001b[0m\n\u001b[0;32m     30\u001b[0m     \u001b[1;32mdef\u001b[0m \u001b[0m__init__\u001b[0m\u001b[1;33m(\u001b[0m\u001b[0mself\u001b[0m\u001b[1;33m,\u001b[0m \u001b[0mdatafile\u001b[0m\u001b[1;33m,\u001b[0m \u001b[0mmtrigger_file\u001b[0m\u001b[1;33m,\u001b[0m \u001b[0mresp_file\u001b[0m\u001b[1;33m,\u001b[0m \u001b[0mmetadata_file\u001b[0m\u001b[1;33m,\u001b[0m \u001b[0mlaser_trigger_file\u001b[0m\u001b[1;33m,\u001b[0m \u001b[0moptostim\u001b[0m \u001b[1;33m=\u001b[0m \u001b[1;32mFalse\u001b[0m\u001b[1;33m)\u001b[0m\u001b[1;33m:\u001b[0m\u001b[1;33m\u001b[0m\u001b[1;33m\u001b[0m\u001b[0m\n\u001b[0;32m     31\u001b[0m \u001b[1;33m\u001b[0m\u001b[0m\n\u001b[1;32m---> 32\u001b[1;33m         \u001b[0mprep_data\u001b[0m \u001b[1;33m=\u001b[0m \u001b[0mPGanalysis\u001b[0m\u001b[1;33m.\u001b[0m\u001b[0mdata_prepper\u001b[0m\u001b[1;33m(\u001b[0m\u001b[0mdatafile\u001b[0m\u001b[1;33m,\u001b[0m \u001b[0mmtrigger_file\u001b[0m\u001b[1;33m,\u001b[0m \u001b[0mresp_file\u001b[0m\u001b[1;33m,\u001b[0m \u001b[0mmetadata_file\u001b[0m\u001b[1;33m,\u001b[0m \u001b[0mlaser_trigger_file_path\u001b[0m \u001b[1;33m=\u001b[0m \u001b[0mlaser_trigger_file\u001b[0m\u001b[1;33m,\u001b[0m \u001b[0mexpt_type\u001b[0m \u001b[1;33m=\u001b[0m \u001b[1;34m'sequence'\u001b[0m\u001b[1;33m)\u001b[0m\u001b[1;33m\u001b[0m\u001b[1;33m\u001b[0m\u001b[0m\n\u001b[0m\u001b[0;32m     33\u001b[0m \u001b[1;33m\u001b[0m\u001b[0m\n\u001b[0;32m     34\u001b[0m         \u001b[0mtsecs\u001b[0m \u001b[1;33m=\u001b[0m \u001b[0mprep_data\u001b[0m\u001b[1;33m.\u001b[0m\u001b[0mget_spikes\u001b[0m\u001b[1;33m(\u001b[0m\u001b[1;33m)\u001b[0m\u001b[1;33m\u001b[0m\u001b[1;33m\u001b[0m\u001b[0m\n",
      "\u001b[1;32m~\\virtual_environments\\pattern-stim3\\lib\\site-packages\\python_pattern_stim_analysis\\PGanalysis.py\u001b[0m in \u001b[0;36m__init__\u001b[1;34m(self, hdf5_path, trigger_file_path, resp_file_path, expt_metadata_path, expt_type, laser_trigger_file_path)\u001b[0m\n\u001b[0;32m     48\u001b[0m         \u001b[0mspiketimes_allcells\u001b[0m \u001b[1;33m=\u001b[0m \u001b[1;33m[\u001b[0m\u001b[1;33m]\u001b[0m\u001b[1;33m\u001b[0m\u001b[1;33m\u001b[0m\u001b[0m\n\u001b[0;32m     49\u001b[0m         \u001b[1;32mfor\u001b[0m \u001b[0mfile\u001b[0m \u001b[1;32min\u001b[0m \u001b[0mself\u001b[0m\u001b[1;33m.\u001b[0m\u001b[0mhdf5_path\u001b[0m\u001b[1;33m:\u001b[0m\u001b[1;33m\u001b[0m\u001b[1;33m\u001b[0m\u001b[0m\n\u001b[1;32m---> 50\u001b[1;33m             \u001b[0mtsecs_file\u001b[0m\u001b[1;33m,\u001b[0m \u001b[0mspike_index\u001b[0m\u001b[1;33m,\u001b[0m \u001b[0mclusternumber\u001b[0m \u001b[1;33m=\u001b[0m \u001b[0mget_spiketimes_s\u001b[0m\u001b[1;33m(\u001b[0m\u001b[0mfile\u001b[0m\u001b[1;33m)\u001b[0m\u001b[1;33m\u001b[0m\u001b[1;33m\u001b[0m\u001b[0m\n\u001b[0m\u001b[0;32m     51\u001b[0m             \u001b[0mspiketimes_allcells\u001b[0m\u001b[1;33m.\u001b[0m\u001b[0mappend\u001b[0m\u001b[1;33m(\u001b[0m\u001b[0mtsecs_file\u001b[0m\u001b[1;33m)\u001b[0m\u001b[1;33m\u001b[0m\u001b[1;33m\u001b[0m\u001b[0m\n\u001b[0;32m     52\u001b[0m         \u001b[0mself\u001b[0m\u001b[1;33m.\u001b[0m\u001b[0mtsecs\u001b[0m \u001b[1;33m=\u001b[0m \u001b[1;33m[\u001b[0m\u001b[0mcell\u001b[0m \u001b[1;32mfor\u001b[0m \u001b[0mexperiment\u001b[0m \u001b[1;32min\u001b[0m \u001b[0mspiketimes_allcells\u001b[0m \u001b[1;32mfor\u001b[0m \u001b[0mcell\u001b[0m \u001b[1;32min\u001b[0m \u001b[0mexperiment\u001b[0m\u001b[1;33m]\u001b[0m\u001b[1;33m\u001b[0m\u001b[1;33m\u001b[0m\u001b[0m\n",
      "\u001b[1;32m~\\virtual_environments\\pattern-stim3\\lib\\site-packages\\python_pattern_stim_analysis\\PGanalysis.py\u001b[0m in \u001b[0;36mget_spiketimes_s\u001b[1;34m(spike_file)\u001b[0m\n\u001b[0;32m   1045\u001b[0m \u001b[1;31m# Reads the HDF5 file output by Spyking Circus and returns spike time and cluster index information\u001b[0m\u001b[1;33m\u001b[0m\u001b[1;33m\u001b[0m\u001b[1;33m\u001b[0m\u001b[0m\n\u001b[0;32m   1046\u001b[0m \u001b[1;32mdef\u001b[0m \u001b[0mget_spiketimes_s\u001b[0m\u001b[1;33m(\u001b[0m\u001b[0mspike_file\u001b[0m\u001b[1;33m)\u001b[0m\u001b[1;33m:\u001b[0m\u001b[1;33m\u001b[0m\u001b[1;33m\u001b[0m\u001b[0m\n\u001b[1;32m-> 1047\u001b[1;33m     \u001b[0munits\u001b[0m \u001b[1;33m=\u001b[0m \u001b[0mh5py\u001b[0m\u001b[1;33m.\u001b[0m\u001b[0mFile\u001b[0m\u001b[1;33m(\u001b[0m\u001b[0mspike_file\u001b[0m\u001b[1;33m,\u001b[0m \u001b[1;34m'r'\u001b[0m\u001b[1;33m)\u001b[0m\u001b[1;33m\u001b[0m\u001b[1;33m\u001b[0m\u001b[0m\n\u001b[0m\u001b[0;32m   1048\u001b[0m     \u001b[0mspiketimes\u001b[0m \u001b[1;33m=\u001b[0m \u001b[0munits\u001b[0m\u001b[1;33m[\u001b[0m\u001b[1;34m'spiketimes'\u001b[0m\u001b[1;33m]\u001b[0m\u001b[1;33m\u001b[0m\u001b[1;33m\u001b[0m\u001b[0m\n\u001b[0;32m   1049\u001b[0m     \u001b[0mdataset_names\u001b[0m \u001b[1;33m=\u001b[0m \u001b[1;33m[\u001b[0m\u001b[0mn\u001b[0m \u001b[1;32mfor\u001b[0m \u001b[0mn\u001b[0m \u001b[1;32min\u001b[0m \u001b[0mspiketimes\u001b[0m\u001b[1;33m.\u001b[0m\u001b[0mkeys\u001b[0m\u001b[1;33m(\u001b[0m\u001b[1;33m)\u001b[0m\u001b[1;33m]\u001b[0m\u001b[1;33m;\u001b[0m\u001b[1;33m\u001b[0m\u001b[1;33m\u001b[0m\u001b[0m\n",
      "\u001b[1;32m~\\virtual_environments\\pattern-stim3\\lib\\site-packages\\h5py\\_hl\\files.py\u001b[0m in \u001b[0;36m__init__\u001b[1;34m(self, name, mode, driver, libver, userblock_size, swmr, rdcc_nslots, rdcc_nbytes, rdcc_w0, track_order, fs_strategy, fs_persist, fs_threshold, fs_page_size, page_buf_size, min_meta_keep, min_raw_keep, locking, alignment_threshold, alignment_interval, meta_block_size, **kwds)\u001b[0m\n\u001b[0;32m    565\u001b[0m                                  \u001b[0mfs_persist\u001b[0m\u001b[1;33m=\u001b[0m\u001b[0mfs_persist\u001b[0m\u001b[1;33m,\u001b[0m \u001b[0mfs_threshold\u001b[0m\u001b[1;33m=\u001b[0m\u001b[0mfs_threshold\u001b[0m\u001b[1;33m,\u001b[0m\u001b[1;33m\u001b[0m\u001b[1;33m\u001b[0m\u001b[0m\n\u001b[0;32m    566\u001b[0m                                  fs_page_size=fs_page_size)\n\u001b[1;32m--> 567\u001b[1;33m                 \u001b[0mfid\u001b[0m \u001b[1;33m=\u001b[0m \u001b[0mmake_fid\u001b[0m\u001b[1;33m(\u001b[0m\u001b[0mname\u001b[0m\u001b[1;33m,\u001b[0m \u001b[0mmode\u001b[0m\u001b[1;33m,\u001b[0m \u001b[0muserblock_size\u001b[0m\u001b[1;33m,\u001b[0m \u001b[0mfapl\u001b[0m\u001b[1;33m,\u001b[0m \u001b[0mfcpl\u001b[0m\u001b[1;33m,\u001b[0m \u001b[0mswmr\u001b[0m\u001b[1;33m=\u001b[0m\u001b[0mswmr\u001b[0m\u001b[1;33m)\u001b[0m\u001b[1;33m\u001b[0m\u001b[1;33m\u001b[0m\u001b[0m\n\u001b[0m\u001b[0;32m    568\u001b[0m \u001b[1;33m\u001b[0m\u001b[0m\n\u001b[0;32m    569\u001b[0m             \u001b[1;32mif\u001b[0m \u001b[0misinstance\u001b[0m\u001b[1;33m(\u001b[0m\u001b[0mlibver\u001b[0m\u001b[1;33m,\u001b[0m \u001b[0mtuple\u001b[0m\u001b[1;33m)\u001b[0m\u001b[1;33m:\u001b[0m\u001b[1;33m\u001b[0m\u001b[1;33m\u001b[0m\u001b[0m\n",
      "\u001b[1;32m~\\virtual_environments\\pattern-stim3\\lib\\site-packages\\h5py\\_hl\\files.py\u001b[0m in \u001b[0;36mmake_fid\u001b[1;34m(name, mode, userblock_size, fapl, fcpl, swmr)\u001b[0m\n\u001b[0;32m    229\u001b[0m         \u001b[1;32mif\u001b[0m \u001b[0mswmr\u001b[0m \u001b[1;32mand\u001b[0m \u001b[0mswmr_support\u001b[0m\u001b[1;33m:\u001b[0m\u001b[1;33m\u001b[0m\u001b[1;33m\u001b[0m\u001b[0m\n\u001b[0;32m    230\u001b[0m             \u001b[0mflags\u001b[0m \u001b[1;33m|=\u001b[0m \u001b[0mh5f\u001b[0m\u001b[1;33m.\u001b[0m\u001b[0mACC_SWMR_READ\u001b[0m\u001b[1;33m\u001b[0m\u001b[1;33m\u001b[0m\u001b[0m\n\u001b[1;32m--> 231\u001b[1;33m         \u001b[0mfid\u001b[0m \u001b[1;33m=\u001b[0m \u001b[0mh5f\u001b[0m\u001b[1;33m.\u001b[0m\u001b[0mopen\u001b[0m\u001b[1;33m(\u001b[0m\u001b[0mname\u001b[0m\u001b[1;33m,\u001b[0m \u001b[0mflags\u001b[0m\u001b[1;33m,\u001b[0m \u001b[0mfapl\u001b[0m\u001b[1;33m=\u001b[0m\u001b[0mfapl\u001b[0m\u001b[1;33m)\u001b[0m\u001b[1;33m\u001b[0m\u001b[1;33m\u001b[0m\u001b[0m\n\u001b[0m\u001b[0;32m    232\u001b[0m     \u001b[1;32melif\u001b[0m \u001b[0mmode\u001b[0m \u001b[1;33m==\u001b[0m \u001b[1;34m'r+'\u001b[0m\u001b[1;33m:\u001b[0m\u001b[1;33m\u001b[0m\u001b[1;33m\u001b[0m\u001b[0m\n\u001b[0;32m    233\u001b[0m         \u001b[0mfid\u001b[0m \u001b[1;33m=\u001b[0m \u001b[0mh5f\u001b[0m\u001b[1;33m.\u001b[0m\u001b[0mopen\u001b[0m\u001b[1;33m(\u001b[0m\u001b[0mname\u001b[0m\u001b[1;33m,\u001b[0m \u001b[0mh5f\u001b[0m\u001b[1;33m.\u001b[0m\u001b[0mACC_RDWR\u001b[0m\u001b[1;33m,\u001b[0m \u001b[0mfapl\u001b[0m\u001b[1;33m=\u001b[0m\u001b[0mfapl\u001b[0m\u001b[1;33m)\u001b[0m\u001b[1;33m\u001b[0m\u001b[1;33m\u001b[0m\u001b[0m\n",
      "\u001b[1;32mh5py\\_objects.pyx\u001b[0m in \u001b[0;36mh5py._objects.with_phil.wrapper\u001b[1;34m()\u001b[0m\n",
      "\u001b[1;32mh5py\\_objects.pyx\u001b[0m in \u001b[0;36mh5py._objects.with_phil.wrapper\u001b[1;34m()\u001b[0m\n",
      "\u001b[1;32mh5py\\h5f.pyx\u001b[0m in \u001b[0;36mh5py.h5f.open\u001b[1;34m()\u001b[0m\n",
      "\u001b[1;31mFileNotFoundError\u001b[0m: [Errno 2] Unable to open file (unable to open file: name = 'Z:\\robin\\expt_sets\\pattern_stim\\recordings\\230302\\2023-03-02_11-43-28\\experiment1\\recording2\\sc\\230302-001_bank2\\230302-001_bank2.result-1.hdf5', errno = 2, error message = 'No such file or directory', flags = 0, o_flags = 0)"
     ]
    }
   ],
   "source": [
    "spot_processor_230302 = two_spot_processor.extract_data(datafile, mtrigger_file, resp_file, metadata_file, laser_trigger_file, optostim = False)"
   ]
  },
  {
   "cell_type": "code",
   "execution_count": null,
   "metadata": {},
   "outputs": [],
   "source": [
    "savepath = r'C:\\Users\\robin\\pattern_stim_analysis\\breath-triggered_sequence_aPCx\\two_spot_stim\\phase_shift\\controls\\summary_data\\230302_control.npy'\n",
    "sequence_timing_indices = np.arange(65)\n",
    "spot_processor_230302.save_expt_data(savepath, sequence_timing_indices, blank_control_index = 64, window_end = .3)"
   ]
  },
  {
   "cell_type": "code",
   "execution_count": null,
   "metadata": {},
   "outputs": [],
   "source": []
  },
  {
   "cell_type": "markdown",
   "metadata": {},
   "source": [
    "## Date: 230303\n",
    "- mouse: P160\n",
    "- genotype: OMP-ChRV+/-\n",
    "- experiment: 2 spot stimulation, phase shift\n",
    "- optostim: false"
   ]
  },
  {
   "cell_type": "code",
   "execution_count": 24,
   "metadata": {},
   "outputs": [],
   "source": [
    "datafile = [r'Z:\\robin\\expt_sets\\pattern_stim\\recordings\\230303\\2023-03-03_10-50-26\\experiment1\\recording1\\sc\\230303-001_bank1\\230303-001_bank1.result-1.hdf5',r'Z:\\robin\\expt_sets\\pattern_stim\\recordings\\230303\\2023-03-03_10-50-26\\experiment1\\recording1\\sc\\230303-001_bank2\\230303-001_bank2.result-1.hdf5'] \n",
    "mtrigger_file = r'Z:\\robin\\expt_sets\\pattern_stim\\recordings\\230303\\2023-03-03_10-50-26\\experiment1\\recording1\\continuous\\Rhythm_FPGA-100.0\\230303_mtrigger.dat'\n",
    "resp_file = r'Z:\\robin\\expt_sets\\pattern_stim\\recordings\\230303\\2023-03-03_10-50-26\\experiment1\\recording1\\continuous\\Rhythm_FPGA-100.0\\230303_breath.dat'\n",
    "laser_trigger_file = r'Z:\\robin\\expt_sets\\pattern_stim\\recordings\\230303\\2023-03-03_10-50-26\\experiment1\\recording1\\continuous\\Rhythm_FPGA-100.0\\230303_LEDtrigger.dat'\n",
    "laser_trigger_file2 = r'Z:\\robin\\expt_sets\\pattern_stim\\recordings\\230303\\2023-03-03_10-50-26\\experiment1\\recording1\\continuous\\Rhythm_FPGA-100.0\\230303_LEDtrigger2.dat'\n",
    "metadata_file = r'Z:\\robin\\expt_sets\\pattern_stim\\metadata\\230303\\P160_2023_3_3_105142'"
   ]
  },
  {
   "cell_type": "code",
   "execution_count": 25,
   "metadata": {},
   "outputs": [
    {
     "data": {
      "text/plain": [
       "<module 'python_pattern_stim_analysis.two_spot_processor' from 'c:\\\\miniconda3\\\\envs\\\\pattern-stim\\\\lib\\\\site-packages\\\\python_pattern_stim_analysis\\\\two_spot_processor.py'>"
      ]
     },
     "execution_count": 25,
     "metadata": {},
     "output_type": "execute_result"
    }
   ],
   "source": [
    "importlib.reload(two_spot_processor)"
   ]
  },
  {
   "cell_type": "code",
   "execution_count": 26,
   "metadata": {},
   "outputs": [
    {
     "name": "stdout",
     "output_type": "stream",
     "text": [
      "frames good\n"
     ]
    }
   ],
   "source": [
    "spot_processor_230303 = two_spot_processor.extract_data(datafile, mtrigger_file, resp_file, metadata_file, laser_trigger_file, optostim = False)"
   ]
  },
  {
   "cell_type": "code",
   "execution_count": 27,
   "metadata": {},
   "outputs": [
    {
     "name": "stdout",
     "output_type": "stream",
     "text": [
      "data extraction complete, data file saved\n"
     ]
    }
   ],
   "source": [
    "savepath = r'C:\\Users\\robin\\pattern_stim_analysis\\breath-triggered_sequence_aPCx\\two_spot_stim\\phase_shift\\controls\\summary_data\\230303_control.npy'\n",
    "sequence_timing_indices = np.arange(65)\n",
    "spot_processor_230303.save_expt_data(savepath, sequence_timing_indices, blank_control_index = 64, window_end = .3)"
   ]
  },
  {
   "cell_type": "markdown",
   "metadata": {},
   "source": [
    "## Date: 230324\n",
    "- mouse: P161\n",
    "- genotype: OMP-ChRV+/-\n",
    "- experiment: 2 spot stimulation, phase shift\n",
    "- optostim: false"
   ]
  },
  {
   "cell_type": "code",
   "execution_count": 28,
   "metadata": {},
   "outputs": [],
   "source": [
    "datafile = [r'Z:\\robin\\expt_sets\\pattern_stim\\recordings\\230324\\2023-03-24_11-49-51\\experiment1\\recording1\\sc\\230324-001_bank1\\230324-001_bank1.result-1.hdf5', r'Z:\\robin\\expt_sets\\pattern_stim\\recordings\\230324\\2023-03-24_11-49-51\\experiment1\\recording1\\sc\\230324-001_bank2\\230324-001_bank2.result-1.hdf5'] \n",
    "mtrigger_file = r'Z:\\robin\\expt_sets\\pattern_stim\\recordings\\230324\\2023-03-24_11-49-51\\experiment1\\recording1\\continuous\\Rhythm_FPGA-100.0\\230324_mtrigger.dat'\n",
    "resp_file = r'Z:\\robin\\expt_sets\\pattern_stim\\recordings\\230324\\2023-03-24_11-49-51\\experiment1\\recording1\\continuous\\Rhythm_FPGA-100.0\\230324_breath.dat'\n",
    "laser_trigger_file = r'Z:\\robin\\expt_sets\\pattern_stim\\recordings\\230324\\2023-03-24_11-49-51\\experiment1\\recording1\\continuous\\Rhythm_FPGA-100.0\\230324_LEDtrigger.dat'\n",
    "laser_trigger_file2 = r'Z:\\robin\\expt_sets\\pattern_stim\\recordings\\230324\\2023-03-24_11-49-51\\experiment1\\recording1\\continuous\\Rhythm_FPGA-100.0\\230324_LEDtrigger2.dat'\n",
    "metadata_file = r'Z:\\robin\\expt_sets\\pattern_stim\\metadata\\230324\\P161_2023_3_24_115041'"
   ]
  },
  {
   "cell_type": "code",
   "execution_count": 29,
   "metadata": {},
   "outputs": [
    {
     "name": "stdout",
     "output_type": "stream",
     "text": [
      "frames good\n"
     ]
    }
   ],
   "source": [
    "spot_processor_230324 = two_spot_processor.extract_data(datafile, mtrigger_file, resp_file, metadata_file, laser_trigger_file, optostim = False)"
   ]
  },
  {
   "cell_type": "code",
   "execution_count": 30,
   "metadata": {},
   "outputs": [
    {
     "name": "stdout",
     "output_type": "stream",
     "text": [
      "data extraction complete, data file saved\n"
     ]
    }
   ],
   "source": [
    "savepath = r'C:\\Users\\robin\\pattern_stim_analysis\\breath-triggered_sequence_aPCx\\two_spot_stim\\phase_shift\\controls\\summary_data\\230324_control.npy'\n",
    "sequence_timing_indices = np.arange(65)\n",
    "spot_processor_230324.save_expt_data(savepath, sequence_timing_indices, blank_control_index = 64, window_end = .3)"
   ]
  },
  {
   "cell_type": "markdown",
   "metadata": {},
   "source": [
    "## Date: 230727\n",
    "- mouse: P168\n",
    "- genotype: OMP-ChRV+/-\n",
    "- experiment: 2 spot stimulation, phase shift, naris occlusion\n",
    "- optostim: false"
   ]
  },
  {
   "cell_type": "code",
   "execution_count": 9,
   "metadata": {},
   "outputs": [],
   "source": [
    "datafile = [r'Z:\\robin\\expt_sets\\pattern_stim\\recordings\\230727\\2023-07-27_12-01-27\\experiment1\\recording2\\sc\\230727-001_bank1\\230727-001_bank1.result-1.hdf5',r'Z:\\robin\\expt_sets\\pattern_stim\\recordings\\230727\\2023-07-27_12-01-27\\experiment1\\recording2\\sc\\230727-001_bank2\\230727-001_bank2.result-1.hdf5'] \n",
    "mtrigger_file = r'Z:\\robin\\expt_sets\\pattern_stim\\recordings\\230727\\2023-07-27_12-01-27\\experiment1\\recording2\\continuous\\Rhythm_FPGA-100.0\\230727_mtrigger.dat'\n",
    "resp_file = r'Z:\\robin\\expt_sets\\pattern_stim\\recordings\\230727\\2023-07-27_12-01-27\\experiment1\\recording2\\continuous\\Rhythm_FPGA-100.0\\230727_breath.dat'\n",
    "laser_trigger_file = r'Z:\\robin\\expt_sets\\pattern_stim\\recordings\\230727\\2023-07-27_12-01-27\\experiment1\\recording2\\continuous\\Rhythm_FPGA-100.0\\230727_LEDtrigger.dat'\n",
    "laser_trigger_file2 = r'Z:\\robin\\expt_sets\\pattern_stim\\recordings\\230727\\2023-07-27_12-01-27\\experiment1\\recording2\\continuous\\Rhythm_FPGA-100.0\\230727_LEDtrigger2.dat'\n",
    "metadata_file = r'Z:\\robin\\expt_sets\\pattern_stim\\metadata\\230727\\P168_2023_7_27_12216'"
   ]
  },
  {
   "cell_type": "code",
   "execution_count": 10,
   "metadata": {},
   "outputs": [
    {
     "name": "stdout",
     "output_type": "stream",
     "text": [
      "frames good\n"
     ]
    }
   ],
   "source": [
    "spot_processor_230727 = two_spot_processor.extract_data(datafile, mtrigger_file, resp_file, metadata_file, laser_trigger_file, optostim = False)"
   ]
  },
  {
   "cell_type": "code",
   "execution_count": 11,
   "metadata": {},
   "outputs": [
    {
     "name": "stdout",
     "output_type": "stream",
     "text": [
      "data extraction complete, data file saved\n"
     ]
    }
   ],
   "source": [
    "savepath = r'C:\\Users\\robin\\pattern_stim_analysis\\breath-triggered_sequence_aPCx\\two_spot_stim\\phase_shift\\controls\\summary_data\\230727_control.npy'\n",
    "sequence_timing_indices = np.arange(61)\n",
    "spot_processor_230727.save_expt_data(savepath, sequence_timing_indices, blank_control_index = 60, window_end = .3)"
   ]
  },
  {
   "cell_type": "code",
   "execution_count": null,
   "metadata": {},
   "outputs": [],
   "source": []
  }
 ],
 "metadata": {
  "kernelspec": {
   "display_name": "Python 3 (ipykernel)",
   "language": "python",
   "name": "python3"
  },
  "language_info": {
   "codemirror_mode": {
    "name": "ipython",
    "version": 3
   },
   "file_extension": ".py",
   "mimetype": "text/x-python",
   "name": "python",
   "nbconvert_exporter": "python",
   "pygments_lexer": "ipython3",
   "version": "3.7.16"
  }
 },
 "nbformat": 4,
 "nbformat_minor": 4
}
