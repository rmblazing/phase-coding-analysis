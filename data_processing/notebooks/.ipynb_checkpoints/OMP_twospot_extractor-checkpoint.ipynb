{
 "cells": [
  {
   "cell_type": "code",
   "execution_count": 20,
   "metadata": {},
   "outputs": [],
   "source": [
    "from python_pattern_stim_analysis import two_spot_processor\n",
    "import importlib\n",
    "import numpy as np"
   ]
  },
  {
   "cell_type": "markdown",
   "metadata": {},
   "source": [
    "## Date: 220830 \n",
    "- mouse: P137\n",
    "- genotype: Gad2-cre/OMP-ChRV\n",
    "- experiment: 2 spot stimulation\n",
    "- optostim: true "
   ]
  },
  {
   "cell_type": "code",
   "execution_count": 21,
   "metadata": {},
   "outputs": [],
   "source": [
    "datafile = [r'Z:\\robin\\expt_sets\\pattern_stim\\recordings\\220830\\2022-08-30_11-13-03\\experiment1\\recording1\\sc\\220830-001_bank1\\220830-001_bank1.result-1.hdf5',r'Z:\\robin\\expt_sets\\pattern_stim\\recordings\\220830\\2022-08-30_11-13-03\\experiment1\\recording1\\sc\\220830-001_bank2\\220830-001_bank2.result-1.hdf5'] \n",
    "mtrigger_file = r'Z:\\robin\\expt_sets\\pattern_stim\\recordings\\220830\\2022-08-30_11-13-03\\experiment1\\recording1\\continuous\\Rhythm_FPGA-100.0\\220830_mtrigger.dat'\n",
    "resp_file = r'Z:\\robin\\expt_sets\\pattern_stim\\recordings\\220830\\2022-08-30_11-13-03\\experiment1\\recording1\\continuous\\Rhythm_FPGA-100.0\\220830_breath.dat'\n",
    "laser_trigger_file = r'Z:\\robin\\expt_sets\\pattern_stim\\recordings\\220830\\2022-08-30_11-13-03\\experiment1\\recording1\\continuous\\Rhythm_FPGA-100.0\\220830_LEDtrigger.dat'\n",
    "laser_trigger_file2 = r'Z:\\robin\\expt_sets\\pattern_stim\\recordings\\220830\\2022-08-30_11-13-03\\experiment1\\recording1\\continuous\\Rhythm_FPGA-100.0\\220830_LEDtrigger2.dat'\n",
    "metadata_file = r'Z:\\robin\\expt_sets\\pattern_stim\\metadata\\220830\\P137_2022_8_30_111325'"
   ]
  },
  {
   "cell_type": "code",
   "execution_count": 22,
   "metadata": {},
   "outputs": [
    {
     "data": {
      "text/plain": [
       "<module 'python_pattern_stim_analysis.two_spot_processor' from 'c:\\\\miniconda3\\\\envs\\\\pattern-stim\\\\lib\\\\site-packages\\\\python_pattern_stim_analysis\\\\two_spot_processor.py'>"
      ]
     },
     "execution_count": 22,
     "metadata": {},
     "output_type": "execute_result"
    }
   ],
   "source": [
    "importlib.reload(two_spot_processor)"
   ]
  },
  {
   "cell_type": "code",
   "execution_count": 23,
   "metadata": {},
   "outputs": [
    {
     "name": "stdout",
     "output_type": "stream",
     "text": [
      "frames good\n"
     ]
    }
   ],
   "source": [
    "spot_processor_220830 = two_spot_processor.extract_data(datafile, mtrigger_file, resp_file, metadata_file, laser_trigger_file, optostim = True)"
   ]
  },
  {
   "cell_type": "code",
   "execution_count": 24,
   "metadata": {},
   "outputs": [
    {
     "name": "stdout",
     "output_type": "stream",
     "text": [
      "data extraction complete, data file saved\n"
     ]
    }
   ],
   "source": [
    "savepath = r'C:\\Users\\robin\\pattern_stim_analysis\\breath-triggered_sequence_aPCx\\two_spot_stim\\PCx\\summary_data2\\220830_control.npy'\n",
    "sequence_timing_indices = [14,13,12,11,10,9,8,7,6,5,4,3,2,1,0,15,16,17,18,19,20,21,22,23,24,25,26,27,28,29]\n",
    "spot_processor_220830.save_expt_data(savepath, sequence_timing_indices)"
   ]
  },
  {
   "cell_type": "markdown",
   "metadata": {},
   "source": [
    "## Date: 220906\n",
    "- mouse: P139\n",
    "- genotype: Gad2-cre/OMP-ChRV\n",
    "- experiment: 2 spot stimulation\n",
    "- optostim: true "
   ]
  },
  {
   "cell_type": "code",
   "execution_count": 25,
   "metadata": {},
   "outputs": [],
   "source": [
    "datafile = [r'Z:\\robin\\expt_sets\\pattern_stim\\recordings\\220906\\2022-09-06_11-49-49\\experiment1\\recording2\\sc\\220906-001_bank1\\220906-001_bank1.result-1.hdf5', r'Z:\\robin\\expt_sets\\pattern_stim\\recordings\\220906\\2022-09-06_11-49-49\\experiment1\\recording2\\sc\\220906-001_bank2\\220906-001_bank2.result-1.hdf5'] \n",
    "mtrigger_file = r'Z:\\robin\\expt_sets\\pattern_stim\\recordings\\220906\\2022-09-06_11-49-49\\experiment1\\recording2\\continuous\\Rhythm_FPGA-100.0\\220906_mtrigger.dat'\n",
    "resp_file = r'Z:\\robin\\expt_sets\\pattern_stim\\recordings\\220906\\2022-09-06_11-49-49\\experiment1\\recording2\\continuous\\Rhythm_FPGA-100.0\\220906_breath.dat'\n",
    "laser_trigger_file = r'Z:\\robin\\expt_sets\\pattern_stim\\recordings\\220906\\2022-09-06_11-49-49\\experiment1\\recording2\\continuous\\Rhythm_FPGA-100.0\\220906_LEDtrigger.dat'\n",
    "laser_trigger_file2 = r'Z:\\robin\\expt_sets\\pattern_stim\\recordings\\220906\\2022-09-06_11-49-49\\experiment1\\recording2\\continuous\\Rhythm_FPGA-100.0\\220906_LEDtrigger2.dat'\n",
    "metadata_file = r'Z:\\robin\\expt_sets\\pattern_stim\\metadata\\220906\\P139_2022_9_6_115253'"
   ]
  },
  {
   "cell_type": "code",
   "execution_count": 26,
   "metadata": {},
   "outputs": [
    {
     "name": "stdout",
     "output_type": "stream",
     "text": [
      "frames good\n"
     ]
    }
   ],
   "source": [
    "spot_processor_220906 = two_spot_processor.extract_data(datafile, mtrigger_file, resp_file, metadata_file, laser_trigger_file, optostim = True)"
   ]
  },
  {
   "cell_type": "code",
   "execution_count": 27,
   "metadata": {},
   "outputs": [
    {
     "name": "stdout",
     "output_type": "stream",
     "text": [
      "data extraction complete, data file saved\n"
     ]
    }
   ],
   "source": [
    "savepath = r'C:\\Users\\robin\\pattern_stim_analysis\\breath-triggered_sequence_aPCx\\two_spot_stim\\PCx\\summary_data2\\220906_control.npy'\n",
    "sequence_timing_indices = [14,13,12,11,10,9,8,7,6,5,4,3,2,1,0,15,16,17,18,19,20,21,22,23,24,25,26,27,28,29]\n",
    "spot_processor_220906.save_expt_data(savepath, sequence_timing_indices)"
   ]
  },
  {
   "cell_type": "markdown",
   "metadata": {},
   "source": [
    "## Date: 221101\n",
    "- mouse: P145\n",
    "- genotype: OMP-ChRV+/-\n",
    "- experiment: 2 spot stimulation\n",
    "- optostim: false"
   ]
  },
  {
   "cell_type": "code",
   "execution_count": 40,
   "metadata": {},
   "outputs": [],
   "source": [
    "datafile = [r'Z:\\robin\\expt_sets\\pattern_stim\\recordings\\221101\\2022-11-01_15-32-49\\experiment1\\recording1\\sc\\221101-001_bank1\\221101-001_bank1.result-1.hdf5',r'Z:\\robin\\expt_sets\\pattern_stim\\recordings\\221101\\2022-11-01_15-32-49\\experiment1\\recording1\\sc\\221101-001_bank2\\221101-001_bank2.result-1.hdf5'] \n",
    "mtrigger_file = r'Z:\\robin\\expt_sets\\pattern_stim\\recordings\\221101\\2022-11-01_15-32-49\\experiment1\\recording1\\continuous\\Rhythm_FPGA-100.0\\221101_mtrigger.dat'\n",
    "resp_file = r'Z:\\robin\\expt_sets\\pattern_stim\\recordings\\221101\\2022-11-01_15-32-49\\experiment1\\recording1\\continuous\\Rhythm_FPGA-100.0\\221101_breath.dat'\n",
    "laser_trigger_file = r'Z:\\robin\\expt_sets\\pattern_stim\\recordings\\221101\\2022-11-01_15-32-49\\experiment1\\recording1\\continuous\\Rhythm_FPGA-100.0\\221101_LEDtrigger.dat'\n",
    "laser_trigger_file2 = r'Z:\\robin\\expt_sets\\pattern_stim\\recordings\\221101\\2022-11-01_15-32-49\\experiment1\\recording1\\continuous\\Rhythm_FPGA-100.0\\221101_LEDtrigger2.dat'\n",
    "metadata_file = r'Z:\\robin\\expt_sets\\pattern_stim\\metadata\\221101\\P145_2022_11_1_15337'"
   ]
  },
  {
   "cell_type": "code",
   "execution_count": 41,
   "metadata": {},
   "outputs": [
    {
     "name": "stdout",
     "output_type": "stream",
     "text": [
      "frames good\n"
     ]
    }
   ],
   "source": [
    "spot_processor_221101 = two_spot_processor.extract_data(datafile, mtrigger_file, resp_file, metadata_file, laser_trigger_file, optostim = False)"
   ]
  },
  {
   "cell_type": "code",
   "execution_count": 42,
   "metadata": {},
   "outputs": [
    {
     "name": "stdout",
     "output_type": "stream",
     "text": [
      "data extraction complete, data file saved\n"
     ]
    }
   ],
   "source": [
    "savepath = r'C:\\Users\\robin\\pattern_stim_analysis\\breath-triggered_sequence_aPCx\\two_spot_stim\\PCx\\summary_data2\\221101_control.npy'\n",
    "sequence_timing_indices = np.arange(33)\n",
    "spot_processor_221101.save_expt_data(savepath, sequence_timing_indices)"
   ]
  },
  {
   "cell_type": "markdown",
   "metadata": {},
   "source": [
    "## Date: 221102\n",
    "- mouse: P145\n",
    "- genotype: OMP-ChRV+/-\n",
    "- experiment: 2 spot stimulation\n",
    "- optostim: false"
   ]
  },
  {
   "cell_type": "code",
   "execution_count": 31,
   "metadata": {},
   "outputs": [],
   "source": [
    "datafile = [r'Z:\\robin\\expt_sets\\pattern_stim\\recordings\\221102\\2022-11-02_16-23-10\\experiment1\\recording1\\sc\\221102-001_bank1\\221102-001_bank1.result-1.hdf5',r'Z:\\robin\\expt_sets\\pattern_stim\\recordings\\221102\\2022-11-02_16-23-10\\experiment1\\recording1\\sc\\221102-001_bank2\\221102-001_bank2.result-1.hdf5'] \n",
    "mtrigger_file = r'Z:\\robin\\expt_sets\\pattern_stim\\recordings\\221102\\2022-11-02_16-23-10\\experiment1\\recording1\\continuous\\Rhythm_FPGA-100.0\\221102_mtrigger.dat'\n",
    "resp_file = r'Z:\\robin\\expt_sets\\pattern_stim\\recordings\\221102\\2022-11-02_16-23-10\\experiment1\\recording1\\continuous\\Rhythm_FPGA-100.0\\221102_breath.dat'\n",
    "laser_trigger_file = r'Z:\\robin\\expt_sets\\pattern_stim\\recordings\\221102\\2022-11-02_16-23-10\\experiment1\\recording1\\continuous\\Rhythm_FPGA-100.0\\221102_LEDtrigger.dat'\n",
    "laser_trigger_file2 = r'Z:\\robin\\expt_sets\\pattern_stim\\recordings\\221102\\2022-11-02_16-23-10\\experiment1\\recording1\\continuous\\Rhythm_FPGA-100.0\\221102_LEDtrigger2.dat'\n",
    "metadata_file = r'Z:\\robin\\expt_sets\\pattern_stim\\metadata\\221102\\P145_2022_11_2_162345'"
   ]
  },
  {
   "cell_type": "code",
   "execution_count": 32,
   "metadata": {},
   "outputs": [
    {
     "name": "stdout",
     "output_type": "stream",
     "text": [
      "frames good\n"
     ]
    }
   ],
   "source": [
    "spot_processor_221102 = two_spot_processor.extract_data(datafile, mtrigger_file, resp_file, metadata_file, laser_trigger_file, optostim = False)"
   ]
  },
  {
   "cell_type": "code",
   "execution_count": 33,
   "metadata": {},
   "outputs": [
    {
     "name": "stdout",
     "output_type": "stream",
     "text": [
      "data extraction complete, data file saved\n"
     ]
    }
   ],
   "source": [
    "savepath = r'C:\\Users\\robin\\pattern_stim_analysis\\breath-triggered_sequence_aPCx\\two_spot_stim\\PCx\\summary_data2\\221102_control.npy'\n",
    "sequence_timing_indices = np.arange(33)\n",
    "spot_processor_221102.save_expt_data(savepath, sequence_timing_indices)"
   ]
  },
  {
   "cell_type": "code",
   "execution_count": 34,
   "metadata": {},
   "outputs": [],
   "source": [
    "del spot_processor_221102"
   ]
  },
  {
   "cell_type": "markdown",
   "metadata": {},
   "source": [
    "## Date: 221103\n",
    "- mouse: P145\n",
    "- genotype: OMP-ChRV+/-\n",
    "- experiment: 2 spot stimulation\n",
    "- optostim: false"
   ]
  },
  {
   "cell_type": "code",
   "execution_count": 35,
   "metadata": {},
   "outputs": [],
   "source": [
    "datafile = [r'Z:\\robin\\expt_sets\\pattern_stim\\recordings\\221103\\2022-11-03_16-33-09\\experiment1\\recording1\\sc\\221103-001_bank1\\221103-001_bank1.result-1.hdf5',r'Z:\\robin\\expt_sets\\pattern_stim\\recordings\\221103\\2022-11-03_16-33-09\\experiment1\\recording1\\sc\\221103-001_bank2\\221103-001_bank2.result-1.hdf5'] \n",
    "mtrigger_file = r'Z:\\robin\\expt_sets\\pattern_stim\\recordings\\221103\\2022-11-03_16-33-09\\experiment1\\recording1\\continuous\\Rhythm_FPGA-100.0\\221103_mtrigger.dat'\n",
    "resp_file = r'Z:\\robin\\expt_sets\\pattern_stim\\recordings\\221103\\2022-11-03_16-33-09\\experiment1\\recording1\\continuous\\Rhythm_FPGA-100.0\\221103_breath.dat'\n",
    "laser_trigger_file = r'Z:\\robin\\expt_sets\\pattern_stim\\recordings\\221103\\2022-11-03_16-33-09\\experiment1\\recording1\\continuous\\Rhythm_FPGA-100.0\\221103_LEDtrigger.dat'\n",
    "laser_trigger_file2 = r'Z:\\robin\\expt_sets\\pattern_stim\\recordings\\221103\\2022-11-03_16-33-09\\experiment1\\recording1\\continuous\\Rhythm_FPGA-100.0\\221103_LEDtrigger2.dat'\n",
    "metadata_file = r'Z:\\robin\\expt_sets\\pattern_stim\\metadata\\221103\\P145_2022_11_3_163344'"
   ]
  },
  {
   "cell_type": "code",
   "execution_count": 36,
   "metadata": {},
   "outputs": [
    {
     "name": "stdout",
     "output_type": "stream",
     "text": [
      "frames good\n"
     ]
    }
   ],
   "source": [
    "spot_processor_221103 = two_spot_processor.extract_data(datafile, mtrigger_file, resp_file, metadata_file, laser_trigger_file, optostim = False)"
   ]
  },
  {
   "cell_type": "code",
   "execution_count": 37,
   "metadata": {},
   "outputs": [
    {
     "name": "stdout",
     "output_type": "stream",
     "text": [
      "data extraction complete, data file saved\n"
     ]
    }
   ],
   "source": [
    "savepath = r'C:\\Users\\robin\\pattern_stim_analysis\\breath-triggered_sequence_aPCx\\two_spot_stim\\PCx\\summary_data2\\221103_control.npy'\n",
    "sequence_timing_indices = np.arange(33)\n",
    "spot_processor_221103.save_expt_data(savepath, sequence_timing_indices)"
   ]
  },
  {
   "cell_type": "code",
   "execution_count": 38,
   "metadata": {},
   "outputs": [],
   "source": [
    "del spot_processor_221103"
   ]
  },
  {
   "cell_type": "code",
   "execution_count": null,
   "metadata": {},
   "outputs": [],
   "source": []
  }
 ],
 "metadata": {
  "kernelspec": {
   "display_name": "Python 3",
   "language": "python",
   "name": "python3"
  },
  "language_info": {
   "codemirror_mode": {
    "name": "ipython",
    "version": 3
   },
   "file_extension": ".py",
   "mimetype": "text/x-python",
   "name": "python",
   "nbconvert_exporter": "python",
   "pygments_lexer": "ipython3",
   "version": "3.6.2"
  }
 },
 "nbformat": 4,
 "nbformat_minor": 4
}
