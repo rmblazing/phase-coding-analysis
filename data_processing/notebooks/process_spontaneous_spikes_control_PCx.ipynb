{
 "cells": [
  {
   "cell_type": "code",
   "execution_count": 23,
   "id": "2cb71d9a-cdba-408c-bd64-8efe6f6fbc51",
   "metadata": {
    "tags": []
   },
   "outputs": [],
   "source": [
    "from phase_analysis import spontaneous_activity_analyzer\n",
    "import numpy as np\n",
    "import os"
   ]
  },
  {
   "cell_type": "code",
   "execution_count": 12,
   "id": "a481d9b7-db7a-4dcd-9a22-c962ee1f408f",
   "metadata": {
    "tags": []
   },
   "outputs": [],
   "source": [
    "def run_spontaneous_analysis(datafile, resp_phase_path, mtrigger_file, phase_stats_path, phase_tuning_path):\n",
    "    \n",
    "    # create an instance of the spontaneous analyzer class \n",
    "    spontaneous_analyzer = spontaneous_activity_analyzer.Spontaneous_activity_analysis(datafile, resp_phase_path, mtrigger_file, phase_stats_path, phase_tuning_path)\n",
    "    # for each cell, get the spontaneous phase locking \n",
    "    spontaneous_tuning, spontaneous_bin_rate, duration_in_resp_bin = spontaneous_analyzer.get_spontaneous_tuning()\n",
    "    # for each cell-spot pair, get the significant tuning curves \n",
    "    stim_tuning, mean_stim_tuning, _ = spontaneous_analyzer.get_sig_tuning_curves()\n",
    "\n",
    "    # for each cell, compute the preferred spontaneous phase and a confidence interval from shuffled spikes to assess the extent of phase locking \n",
    "    bins = np.arange(0,np.radians(360)+np.radians(9), np.radians(9))\n",
    "    phase_locking_bootstrap = spontaneous_analyzer.get_phase_locking_bootstrap(bins)\n",
    "    lower_CI, upper_CI, phase_hist, spontaneously_locked, percent_locked_spikes = spontaneous_analyzer.get_phase_locked_cells(phase_locking_bootstrap, bins)\n",
    "    \n",
    "    return spontaneous_tuning, spontaneous_bin_rate, stim_tuning, spontaneously_locked, percent_locked_spikes, lower_CI, upper_CI, phase_hist, duration_in_resp_bin"
   ]
  },
  {
   "cell_type": "code",
   "execution_count": 13,
   "id": "f412325a-9212-4a2c-9bed-f33341d2dbcb",
   "metadata": {
    "tags": []
   },
   "outputs": [],
   "source": [
    "all_path_dicts = []"
   ]
  },
  {
   "cell_type": "code",
   "execution_count": 14,
   "id": "78a3473d-2806-4323-8a26-5d80bd153f9d",
   "metadata": {
    "tags": []
   },
   "outputs": [],
   "source": [
    "datafile = [r'Z:\\robin\\expt_sets\\pattern_stim\\recordings\\230407\\2023-04-07_14-57-28\\experiment1\\recording1\\sc\\230407-001_bank1\\230407-001_bank1.result-1.hdf5',\n",
    "           r'Z:\\robin\\expt_sets\\pattern_stim\\recordings\\230407\\2023-04-07_14-57-28\\experiment1\\recording1\\sc\\230407-001_bank2\\230407-001_bank2.result-1.hdf5']\n",
    "mtrigger_file = r'Z:\\robin\\expt_sets\\pattern_stim\\recordings\\230407\\2023-04-07_14-57-28\\experiment1\\recording1\\continuous\\Rhythm_FPGA-100.0\\230407_mtrigger.dat'\n",
    "phase_tuning_path = r'Z:\\robin\\Paper\\phase_coding_manuscript\\data\\fig1\\phase_tuning\\230407.npy'\n",
    "phase_stats_path = r'Z:\\robin\\Paper\\phase_coding_manuscript\\data\\fig1\\phase_stats\\230407.npy'\n",
    "resp_phase_path = r'Z:\\robin\\Paper\\phase_coding_manuscript\\data\\fig1\\resp_data\\230407.npy'\n",
    "path_dict = {'experiment_ID': '230407', 'datafile':datafile, 'mtrigger_file':mtrigger_file, 'phase_tuning_path':phase_tuning_path, 'phase_stats_path':phase_stats_path, 'resp_phase_path':resp_phase_path}\n",
    "all_path_dicts.append(path_dict)"
   ]
  },
  {
   "cell_type": "code",
   "execution_count": 15,
   "id": "415a64b8-cd98-44ee-9d6d-7742c2486e88",
   "metadata": {
    "tags": []
   },
   "outputs": [],
   "source": [
    "datafile = [r'Z:\\robin\\expt_sets\\pattern_stim\\recordings\\230418\\2023-04-18_11-41-31\\experiment1\\recording1\\sc\\230418-001_bank1\\230418-001_bank1.result-1.hdf5',\n",
    "           r'Z:\\robin\\expt_sets\\pattern_stim\\recordings\\230418\\2023-04-18_11-41-31\\experiment1\\recording1\\sc\\230418-001_bank2\\230418-001_bank2.result-1.hdf5']\n",
    "mtrigger_file = r'Z:\\robin\\expt_sets\\pattern_stim\\recordings\\230418\\2023-04-18_11-41-31\\experiment1\\recording1\\continuous\\Rhythm_FPGA-100.0\\230418_mtrigger.dat'\n",
    "phase_tuning_path = r'Z:\\robin\\Paper\\phase_coding_manuscript\\data\\fig1\\phase_tuning\\230418.npy'\n",
    "phase_stats_path = r'Z:\\robin\\Paper\\phase_coding_manuscript\\data\\fig1\\phase_stats\\230418.npy'\n",
    "resp_phase_path = r'Z:\\robin\\Paper\\phase_coding_manuscript\\data\\fig1\\resp_data\\230418.npy'\n",
    "path_dict = {'experiment_ID': '230418', 'datafile':datafile, 'mtrigger_file':mtrigger_file, 'phase_tuning_path':phase_tuning_path, 'phase_stats_path':phase_stats_path, 'resp_phase_path':resp_phase_path}\n",
    "all_path_dicts.append(path_dict)"
   ]
  },
  {
   "cell_type": "code",
   "execution_count": 16,
   "id": "b5beb1a2-7bd8-4ebe-b4d9-6294ddbc1ece",
   "metadata": {
    "tags": []
   },
   "outputs": [],
   "source": [
    "datafile = [r'Z:\\robin\\expt_sets\\pattern_stim\\recordings\\230502\\2023-05-02_18-00-07\\experiment1\\recording2\\sc\\230502-001_bank1\\230502-001_bank1.result-1.hdf5', \n",
    "            r'Z:\\robin\\expt_sets\\pattern_stim\\recordings\\230502\\2023-05-02_18-00-07\\experiment1\\recording2\\sc\\230502-001_bank2\\230502-001_bank2.result-1.hdf5']\n",
    "mtrigger_file = r'Z:\\robin\\expt_sets\\pattern_stim\\recordings\\230502\\2023-05-02_18-00-07\\experiment1\\recording2\\continuous\\Rhythm_FPGA-100.0\\230502_mtrigger.dat'\n",
    "phase_tuning_path = r'Z:\\robin\\Paper\\phase_coding_manuscript\\data\\fig1\\phase_tuning\\230502.npy'\n",
    "phase_stats_path = r'Z:\\robin\\Paper\\phase_coding_manuscript\\data\\fig1\\phase_stats\\230502.npy'\n",
    "resp_phase_path = r'Z:\\robin\\Paper\\phase_coding_manuscript\\data\\fig1\\resp_data\\230502.npy'\n",
    "path_dict = {'experiment_ID': '230502', 'datafile':datafile, 'mtrigger_file':mtrigger_file, 'phase_tuning_path':phase_tuning_path, 'phase_stats_path':phase_stats_path, 'resp_phase_path':resp_phase_path}\n",
    "all_path_dicts.append(path_dict)"
   ]
  },
  {
   "cell_type": "code",
   "execution_count": 17,
   "id": "783b8f1c-b87c-42c1-8bec-87c083844226",
   "metadata": {
    "tags": []
   },
   "outputs": [],
   "source": [
    "datafile = [r'Z:\\robin\\expt_sets\\pattern_stim\\recordings\\230508\\2023-05-08_13-07-42\\experiment1\\recording2\\sc\\230508-001_bank1\\230508-001_bank1.result-1.hdf5',\n",
    "            r'Z:\\robin\\expt_sets\\pattern_stim\\recordings\\230508\\2023-05-08_13-07-42\\experiment1\\recording2\\sc\\230508-001_bank2\\230508-001_bank2.result-1.hdf5']\n",
    "mtrigger_file = r'Z:\\robin\\expt_sets\\pattern_stim\\recordings\\230508\\2023-05-08_13-07-42\\experiment1\\recording2\\continuous\\Rhythm_FPGA-100.0\\230508_mtrigger.dat'\n",
    "phase_tuning_path = r'Z:\\robin\\Paper\\phase_coding_manuscript\\data\\fig1\\phase_tuning\\230508.npy'\n",
    "phase_stats_path = r'Z:\\robin\\Paper\\phase_coding_manuscript\\data\\fig1\\phase_stats\\230508.npy'\n",
    "resp_phase_path = r'Z:\\robin\\Paper\\phase_coding_manuscript\\data\\fig1\\resp_data\\230508.npy'\n",
    "path_dict = {'experiment_ID': '230508', 'datafile':datafile, 'mtrigger_file':mtrigger_file, 'phase_tuning_path':phase_tuning_path, 'phase_stats_path':phase_stats_path, 'resp_phase_path':resp_phase_path}\n",
    "all_path_dicts.append(path_dict)"
   ]
  },
  {
   "cell_type": "code",
   "execution_count": 18,
   "id": "8e5918ca-57ca-41f3-987d-b6e474adcedd",
   "metadata": {
    "tags": []
   },
   "outputs": [],
   "source": [
    "datafile = [r'Z:\\robin\\expt_sets\\pattern_stim\\recordings\\230621\\2023-06-21_12-07-10\\experiment1\\recording1\\sc\\230621-001_bank1\\230621-001_bank1.result-1.hdf5',\n",
    "            r'Z:\\robin\\expt_sets\\pattern_stim\\recordings\\230621\\2023-06-21_12-07-10\\experiment1\\recording1\\sc\\230621-001_bank2\\230621-001_bank2.result-1.hdf5']\n",
    "mtrigger_file = r'Z:\\robin\\expt_sets\\pattern_stim\\recordings\\230621\\2023-06-21_12-07-10\\experiment1\\recording1\\continuous\\Rhythm_FPGA-100.0\\230621_mtrigger.dat'\n",
    "phase_tuning_path = r'Z:\\robin\\Paper\\phase_coding_manuscript\\data\\fig1\\phase_tuning\\230621.npy'\n",
    "phase_stats_path = r'Z:\\robin\\Paper\\phase_coding_manuscript\\data\\fig1\\phase_stats\\230621.npy'\n",
    "resp_phase_path = r'Z:\\robin\\Paper\\phase_coding_manuscript\\data\\fig1\\resp_data\\230621.npy'\n",
    "path_dict = {'experiment_ID': '230621', 'datafile':datafile, 'mtrigger_file':mtrigger_file, 'phase_tuning_path':phase_tuning_path, 'phase_stats_path':phase_stats_path, 'resp_phase_path':resp_phase_path}\n",
    "all_path_dicts.append(path_dict)"
   ]
  },
  {
   "cell_type": "code",
   "execution_count": 19,
   "id": "05931550-ee98-45f6-b90f-4e3cc1b70ba2",
   "metadata": {
    "tags": []
   },
   "outputs": [],
   "source": [
    "datafile = [r'Z:\\robin\\expt_sets\\pattern_stim\\recordings\\230726\\2023-07-26_11-49-06\\experiment1\\recording1\\sc\\230726-001_bank1\\230726-001_bank1.result-1.hdf5',\n",
    "            r'Z:\\robin\\expt_sets\\pattern_stim\\recordings\\230726\\2023-07-26_11-49-06\\experiment1\\recording1\\sc\\230726-001_bank2\\230726-001_bank2.result-1.hdf5']\n",
    "mtrigger_file = r'Z:\\robin\\expt_sets\\pattern_stim\\recordings\\230726\\2023-07-26_11-49-06\\experiment1\\recording1\\continuous\\Rhythm_FPGA-100.0\\230726_mtrigger.dat'\n",
    "phase_tuning_path = r'Z:\\robin\\Paper\\phase_coding_manuscript\\data\\fig1\\phase_tuning\\230726.npy'\n",
    "phase_stats_path = r'Z:\\robin\\Paper\\phase_coding_manuscript\\data\\fig1\\phase_stats\\230726.npy'\n",
    "resp_phase_path = r'Z:\\robin\\Paper\\phase_coding_manuscript\\data\\fig1\\resp_data\\230726.npy'\n",
    "path_dict = {'experiment_ID': '230726', 'datafile':datafile, 'mtrigger_file':mtrigger_file, 'phase_tuning_path':phase_tuning_path, 'phase_stats_path':phase_stats_path, 'resp_phase_path':resp_phase_path}\n",
    "all_path_dicts.append(path_dict)"
   ]
  },
  {
   "cell_type": "code",
   "execution_count": 21,
   "id": "76e4fd08-d4e2-4a02-b0bf-6379452708ef",
   "metadata": {
    "tags": []
   },
   "outputs": [
    {
     "name": "stdout",
     "output_type": "stream",
     "text": [
      "processing experiment 230407\n",
      "spontaneous activity recorded for 30.88 minutes\n",
      "processing experiment 230418\n",
      "spontaneous activity recorded for 29.57 minutes\n",
      "processing experiment 230502\n",
      "spontaneous activity recorded for 10.08 minutes\n",
      "processing experiment 230508\n",
      "spontaneous activity recorded for 21.83 minutes\n",
      "processing experiment 230621\n",
      "spontaneous activity recorded for 11.53 minutes\n",
      "processing experiment 230726\n",
      "spontaneous activity recorded for 15.31 minutes\n"
     ]
    }
   ],
   "source": [
    "all_spontaneous_tuning = []\n",
    "all_spontaneous_bin_rate = []\n",
    "all_stim_tuning = []\n",
    "all_duration_in_resp_bin = []\n",
    "all_spontaneously_locked = []\n",
    "all_percent_locked_spikes = []\n",
    "all_lower_CI = []\n",
    "all_upper_CI = []\n",
    "all_phase_hist = []\n",
    "\n",
    "for path_dict_num, path_dict in enumerate(all_path_dicts): \n",
    "    print('processing experiment ' + path_dict['experiment_ID'])\n",
    "    spontaneous_tuning, spontaneous_bin_rate, stim_tuning, spontaneously_locked, percent_locked_spikes, lower_CI, upper_CI, phase_hist, duration_in_resp_bin = run_spontaneous_analysis(path_dict['datafile'], path_dict['resp_phase_path'],  path_dict['mtrigger_file'],  \n",
    "                                                                                                                                                                                        path_dict['phase_stats_path'],  path_dict['phase_tuning_path'])\n",
    "    all_spontaneous_tuning.append(spontaneous_tuning)\n",
    "    all_stim_tuning.append(stim_tuning)\n",
    "    all_spontaneous_bin_rate.append(spontaneous_bin_rate)\n",
    "    all_duration_in_resp_bin.append(duration_in_resp_bin)\n",
    "    all_spontaneously_locked.append(spontaneously_locked)\n",
    "    all_percent_locked_spikes.append(percent_locked_spikes)\n",
    "    all_lower_CI.append(lower_CI)\n",
    "    all_upper_CI.append(upper_CI)\n",
    "    all_phase_hist.append(phase_hist)"
   ]
  },
  {
   "cell_type": "code",
   "execution_count": 22,
   "id": "c4d2cd89-9cf4-40db-93ff-262d295e7818",
   "metadata": {
    "tags": []
   },
   "outputs": [],
   "source": [
    "# create a dictionary to save the relevant fields \n",
    "spontaneous_spiking_PCx_control = {'all_spontaneous_tuning':all_spontaneous_tuning, 'all_stim_tuning':all_stim_tuning, 'all_spontaneous_bin_rate':all_spontaneous_bin_rate, 'all_duration_in_resp_bin':all_duration_in_resp_bin, 'all_spontaneously_locked':all_spontaneously_locked,\n",
    "                                    'all_percent_locked_spikes':all_percent_locked_spikes, 'all_lower_CI':all_lower_CI, 'all_upper_CI':all_upper_CI, 'all_phase_hist':all_phase_hist}"
   ]
  },
  {
   "cell_type": "code",
   "execution_count": 24,
   "id": "fcce99f2-fd29-4c00-b6ed-184e60ed82c6",
   "metadata": {
    "tags": []
   },
   "outputs": [],
   "source": [
    "# save the data \n",
    "os.chdir(r'S:\\All_Staff\\robin\\Paper\\phase_coding_manuscript\\final_data\\fig2')\n",
    "np.save('spontaneous_spiking_PCx_control', [spontaneous_spiking_PCx_control])"
   ]
  },
  {
   "cell_type": "code",
   "execution_count": null,
   "id": "6461fecf-36c7-4876-9e0f-c84001c71e8d",
   "metadata": {},
   "outputs": [],
   "source": []
  }
 ],
 "metadata": {
  "kernelspec": {
   "display_name": "Python 3 (ipykernel)",
   "language": "python",
   "name": "python3"
  },
  "language_info": {
   "codemirror_mode": {
    "name": "ipython",
    "version": 3
   },
   "file_extension": ".py",
   "mimetype": "text/x-python",
   "name": "python",
   "nbconvert_exporter": "python",
   "pygments_lexer": "ipython3",
   "version": "3.7.16"
  }
 },
 "nbformat": 4,
 "nbformat_minor": 5
}
