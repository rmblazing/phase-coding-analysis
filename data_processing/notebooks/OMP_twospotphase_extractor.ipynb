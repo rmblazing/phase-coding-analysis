{
 "cells": [
  {
   "cell_type": "code",
   "execution_count": 6,
   "metadata": {
    "tags": []
   },
   "outputs": [],
   "source": [
    "import numpy as np\n",
    "import two_spot_processor"
   ]
  },
  {
   "cell_type": "markdown",
   "metadata": {},
   "source": [
    "## Date: 230225 \n",
    "- mouse: P159\n",
    "- genotype: OMP-ChRV+/-\n",
    "- experiment: 2 spot stimulation, phase shift\n",
    "- optostim: false"
   ]
  },
  {
   "cell_type": "code",
   "execution_count": 7,
   "metadata": {},
   "outputs": [],
   "source": [
    "datafile = [r'Z:\\robin\\expt_sets\\pattern_stim\\recordings\\230225\\2023-02-25_09-39-05\\experiment1\\recording1\\sc\\230225-001_bank1\\230225-001_bank1.result-1.hdf5', r'Z:\\robin\\expt_sets\\pattern_stim\\recordings\\230225\\2023-02-25_09-39-05\\experiment1\\recording1\\sc\\230225-001_bank2\\230225-001_bank2.result-1.hdf5'] \n",
    "mtrigger_file = r'Z:\\robin\\expt_sets\\pattern_stim\\recordings\\230225\\2023-02-25_09-39-05\\experiment1\\recording1\\continuous\\Rhythm_FPGA-100.0\\230225_mtrigger.dat'\n",
    "resp_file = r'Z:\\robin\\expt_sets\\pattern_stim\\recordings\\230225\\2023-02-25_09-39-05\\experiment1\\recording1\\continuous\\Rhythm_FPGA-100.0\\230225_breath.dat'\n",
    "laser_trigger_file = r'Z:\\robin\\expt_sets\\pattern_stim\\recordings\\230225\\2023-02-25_09-39-05\\experiment1\\recording1\\continuous\\Rhythm_FPGA-100.0\\230225_LEDtrigger.dat'\n",
    "laser_trigger_file2 = r'Z:\\robin\\expt_sets\\pattern_stim\\recordings\\230225\\2023-02-25_09-39-05\\experiment1\\recording1\\continuous\\Rhythm_FPGA-100.0\\230225_LEDtrigger2.dat'\n",
    "metadata_file = r'Z:\\robin\\expt_sets\\pattern_stim\\metadata\\230225\\P159_2023_2_25_94012'"
   ]
  },
  {
   "cell_type": "code",
   "execution_count": 8,
   "metadata": {},
   "outputs": [
    {
     "name": "stdout",
     "output_type": "stream",
     "text": [
      "frames good\n"
     ]
    }
   ],
   "source": [
    "spot_processor_230225 = two_spot_processor.extract_data(datafile, mtrigger_file, resp_file, metadata_file, laser_trigger_file, optostim = False)"
   ]
  },
  {
   "cell_type": "code",
   "execution_count": 9,
   "metadata": {},
   "outputs": [
    {
     "name": "stdout",
     "output_type": "stream",
     "text": [
      "data extraction complete, data file saved\n"
     ]
    }
   ],
   "source": [
    "savepath = r'C:\\Users\\rmb55\\most_updated_pattern_stim\\pattern_stim_analysis\\breath-triggered_sequence_aPCx\\two_spot_stim\\phase_shift\\controls\\summary_data\\230225_control.npy'\n",
    "sequence_timing_indices = np.arange(65)\n",
    "spot_processor_230225.save_expt_data(savepath, sequence_timing_indices, blank_control_index = 64, window_end = .3)"
   ]
  },
  {
   "cell_type": "code",
   "execution_count": 10,
   "metadata": {},
   "outputs": [],
   "source": [
    "del spot_processor_230225"
   ]
  },
  {
   "cell_type": "markdown",
   "metadata": {},
   "source": [
    "## Date: 230227\n",
    "- mouse: P159\n",
    "- genotype: OMP-ChRV+/-\n",
    "- experiment: 2 spot stimulation, phase shift\n",
    "- optostim: false"
   ]
  },
  {
   "cell_type": "code",
   "execution_count": 14,
   "metadata": {},
   "outputs": [],
   "source": [
    "datafile = [r'Z:\\robin\\expt_sets\\pattern_stim\\recordings\\230227\\2023-02-27_14-13-05\\experiment1\\recording2\\sc\\230227-001_bank1\\230227-001_bank1.result-1.hdf5'] \n",
    "mtrigger_file = r'Z:\\robin\\expt_sets\\pattern_stim\\recordings\\230227\\2023-02-27_14-13-05\\experiment1\\recording2\\continuous\\Rhythm_FPGA-100.0\\230227_mtrigger.dat'\n",
    "resp_file = r'Z:\\robin\\expt_sets\\pattern_stim\\recordings\\230227\\2023-02-27_14-13-05\\experiment1\\recording2\\continuous\\Rhythm_FPGA-100.0\\230227_breath.dat'\n",
    "laser_trigger_file = r'Z:\\robin\\expt_sets\\pattern_stim\\recordings\\230227\\2023-02-27_14-13-05\\experiment1\\recording2\\continuous\\Rhythm_FPGA-100.0\\230227_LEDtrigger.dat'\n",
    "laser_trigger_file2 = r'Z:\\robin\\expt_sets\\pattern_stim\\recordings\\230227\\2023-02-27_14-13-05\\experiment1\\recording2\\continuous\\Rhythm_FPGA-100.0\\230227_LEDtrigger2.dat'\n",
    "metadata_file = r'Z:\\robin\\expt_sets\\pattern_stim\\metadata\\230227\\P159_2023_2_27_142031'"
   ]
  },
  {
   "cell_type": "code",
   "execution_count": 15,
   "metadata": {},
   "outputs": [
    {
     "name": "stdout",
     "output_type": "stream",
     "text": [
      "frames good\n"
     ]
    }
   ],
   "source": [
    "spot_processor_230227 = two_spot_processor.extract_data(datafile, mtrigger_file, resp_file, metadata_file, laser_trigger_file, optostim = False)"
   ]
  },
  {
   "cell_type": "code",
   "execution_count": 16,
   "metadata": {},
   "outputs": [
    {
     "name": "stdout",
     "output_type": "stream",
     "text": [
      "data extraction complete, data file saved\n"
     ]
    }
   ],
   "source": [
    "savepath = r'C:\\Users\\rmb55\\most_updated_pattern_stim\\pattern_stim_analysis\\breath-triggered_sequence_aPCx\\two_spot_stim\\phase_shift\\controls\\summary_data\\230227_control.npy'\n",
    "sequence_timing_indices = np.arange(65)\n",
    "spot_processor_230227.save_expt_data(savepath, sequence_timing_indices, blank_control_index = 64, window_end = .3)"
   ]
  },
  {
   "cell_type": "code",
   "execution_count": 17,
   "metadata": {},
   "outputs": [],
   "source": [
    "del spot_processor_230227"
   ]
  },
  {
   "cell_type": "markdown",
   "metadata": {},
   "source": [
    "## Date: 230301\n",
    "- mouse: P160\n",
    "- genotype: OMP-ChRV+/-\n",
    "- experiment: 2 spot stimulation, phase shift\n",
    "- optostim: false"
   ]
  },
  {
   "cell_type": "code",
   "execution_count": 18,
   "metadata": {},
   "outputs": [],
   "source": [
    "datafile = [r'Z:\\robin\\expt_sets\\pattern_stim\\recordings\\230301\\2023-03-01_11-10-26\\experiment1\\recording1\\sc\\230301-001_bank1\\230301-001_bank1.result-1.hdf5',r'Z:\\robin\\expt_sets\\pattern_stim\\recordings\\230301\\2023-03-01_11-10-26\\experiment1\\recording1\\sc\\230301-001_bank2\\230301-001_bank2.result-1.hdf5'] \n",
    "mtrigger_file = r'Z:\\robin\\expt_sets\\pattern_stim\\recordings\\230301\\2023-03-01_11-10-26\\experiment1\\recording1\\continuous\\Rhythm_FPGA-100.0\\230301_mtrigger.dat'\n",
    "resp_file = r'Z:\\robin\\expt_sets\\pattern_stim\\recordings\\230301\\2023-03-01_11-10-26\\experiment1\\recording1\\continuous\\Rhythm_FPGA-100.0\\230301_breath.dat'\n",
    "laser_trigger_file = r'Z:\\robin\\expt_sets\\pattern_stim\\recordings\\230301\\2023-03-01_11-10-26\\experiment1\\recording1\\continuous\\Rhythm_FPGA-100.0\\230301_LEDtrigger.dat'\n",
    "laser_trigger_file2 = r'Z:\\robin\\expt_sets\\pattern_stim\\recordings\\230301\\2023-03-01_11-10-26\\experiment1\\recording1\\continuous\\Rhythm_FPGA-100.0\\230301_LEDtrigger2.dat'\n",
    "metadata_file = r'Z:\\robin\\expt_sets\\pattern_stim\\metadata\\230301\\P160_2023_3_1_111133'"
   ]
  },
  {
   "cell_type": "code",
   "execution_count": 19,
   "metadata": {},
   "outputs": [
    {
     "name": "stdout",
     "output_type": "stream",
     "text": [
      "frames good\n"
     ]
    }
   ],
   "source": [
    "spot_processor_230301 = two_spot_processor.extract_data(datafile, mtrigger_file, resp_file, metadata_file, laser_trigger_file, optostim = False)"
   ]
  },
  {
   "cell_type": "code",
   "execution_count": 21,
   "metadata": {},
   "outputs": [
    {
     "name": "stdout",
     "output_type": "stream",
     "text": [
      "data extraction complete, data file saved\n"
     ]
    }
   ],
   "source": [
    "savepath = r'C:\\Users\\rmb55\\most_updated_pattern_stim\\pattern_stim_analysis\\breath-triggered_sequence_aPCx\\two_spot_stim\\phase_shift\\controls\\summary_data\\230301_control.npy'\n",
    "sequence_timing_indices = np.arange(65)\n",
    "spot_processor_230301.save_expt_data(savepath, sequence_timing_indices, blank_control_index = 64, window_end = .3)"
   ]
  },
  {
   "cell_type": "code",
   "execution_count": 22,
   "metadata": {},
   "outputs": [],
   "source": [
    "del spot_processor_230301"
   ]
  },
  {
   "cell_type": "markdown",
   "metadata": {},
   "source": [
    "## Date: 230302\n",
    "- mouse: P160\n",
    "- genotype: OMP-ChRV+/-\n",
    "- experiment: 2 spot stimulation, phase shift\n",
    "- optostim: false"
   ]
  },
  {
   "cell_type": "code",
   "execution_count": 36,
   "metadata": {
    "tags": []
   },
   "outputs": [],
   "source": [
    "datafile = [r'Z:\\robin\\expt_sets\\pattern_stim\\recordings\\230302\\2023-03-02_11-43-28\\experiment1\\recording2\\sc\\230302-001_bank1\\230302-001_bank1.result-1.hdf5',\n",
    "            r'Z:\\robin\\expt_sets\\pattern_stim\\recordings\\230302\\2023-03-02_11-43-28\\experiment1\\recording2\\sc\\230302-001_bank2\\230302-001_bank2.result-1.hdf5'] \n",
    "mtrigger_file = r'Z:\\robin\\expt_sets\\pattern_stim\\recordings\\230302\\2023-03-02_11-43-28\\experiment1\\recording2\\continuous\\Rhythm_FPGA-100.0\\230302_mtrigger.dat'\n",
    "resp_file = r'Z:\\robin\\expt_sets\\pattern_stim\\recordings\\230302\\2023-03-02_11-43-28\\experiment1\\recording2\\continuous\\Rhythm_FPGA-100.0\\230302_breath.dat'\n",
    "laser_trigger_file = r'Z:\\robin\\expt_sets\\pattern_stim\\recordings\\230302\\2023-03-02_11-43-28\\experiment1\\recording2\\continuous\\Rhythm_FPGA-100.0\\230302_LEDtrigger.dat'\n",
    "laser_trigger_file2 = r'Z:\\robin\\expt_sets\\pattern_stim\\recordings\\230302\\2023-03-02_11-43-28\\experiment1\\recording2\\continuous\\Rhythm_FPGA-100.0\\230302_LEDtrigger2.dat'\n",
    "metadata_file = r'Z:\\robin\\expt_sets\\pattern_stim\\metadata\\230302\\P160_2023_3_2_11484'"
   ]
  },
  {
   "cell_type": "code",
   "execution_count": 37,
   "metadata": {
    "tags": []
   },
   "outputs": [
    {
     "name": "stdout",
     "output_type": "stream",
     "text": [
      "frames good\n"
     ]
    }
   ],
   "source": [
    "spot_processor_230302 = two_spot_processor.extract_data(datafile, mtrigger_file, resp_file, metadata_file, laser_trigger_file, optostim = False)"
   ]
  },
  {
   "cell_type": "code",
   "execution_count": 25,
   "metadata": {
    "tags": []
   },
   "outputs": [
    {
     "name": "stdout",
     "output_type": "stream",
     "text": [
      "data extraction complete, data file saved\n"
     ]
    }
   ],
   "source": [
    "savepath = r'C:\\Users\\rmb55\\most_updated_pattern_stim\\pattern_stim_analysis\\breath-triggered_sequence_aPCx\\two_spot_stim\\phase_shift\\controls\\summary_data\\230302_control.npy'\n",
    "sequence_timing_indices = np.arange(65)\n",
    "spot_processor_230302.save_expt_data(savepath, sequence_timing_indices, blank_control_index = 64, window_end = .3)"
   ]
  },
  {
   "cell_type": "code",
   "execution_count": 26,
   "metadata": {
    "tags": []
   },
   "outputs": [],
   "source": [
    "del spot_processor_230302"
   ]
  },
  {
   "cell_type": "markdown",
   "metadata": {},
   "source": [
    "## Date: 230303\n",
    "- mouse: P160\n",
    "- genotype: OMP-ChRV+/-\n",
    "- experiment: 2 spot stimulation, phase shift\n",
    "- optostim: false"
   ]
  },
  {
   "cell_type": "code",
   "execution_count": 27,
   "metadata": {},
   "outputs": [],
   "source": [
    "datafile = [r'Z:\\robin\\expt_sets\\pattern_stim\\recordings\\230303\\2023-03-03_10-50-26\\experiment1\\recording1\\sc\\230303-001_bank1\\230303-001_bank1.result-1.hdf5',r'Z:\\robin\\expt_sets\\pattern_stim\\recordings\\230303\\2023-03-03_10-50-26\\experiment1\\recording1\\sc\\230303-001_bank2\\230303-001_bank2.result-1.hdf5'] \n",
    "mtrigger_file = r'Z:\\robin\\expt_sets\\pattern_stim\\recordings\\230303\\2023-03-03_10-50-26\\experiment1\\recording1\\continuous\\Rhythm_FPGA-100.0\\230303_mtrigger.dat'\n",
    "resp_file = r'Z:\\robin\\expt_sets\\pattern_stim\\recordings\\230303\\2023-03-03_10-50-26\\experiment1\\recording1\\continuous\\Rhythm_FPGA-100.0\\230303_breath.dat'\n",
    "laser_trigger_file = r'Z:\\robin\\expt_sets\\pattern_stim\\recordings\\230303\\2023-03-03_10-50-26\\experiment1\\recording1\\continuous\\Rhythm_FPGA-100.0\\230303_LEDtrigger.dat'\n",
    "laser_trigger_file2 = r'Z:\\robin\\expt_sets\\pattern_stim\\recordings\\230303\\2023-03-03_10-50-26\\experiment1\\recording1\\continuous\\Rhythm_FPGA-100.0\\230303_LEDtrigger2.dat'\n",
    "metadata_file = r'Z:\\robin\\expt_sets\\pattern_stim\\metadata\\230303\\P160_2023_3_3_105142'"
   ]
  },
  {
   "cell_type": "code",
   "execution_count": 28,
   "metadata": {},
   "outputs": [
    {
     "name": "stdout",
     "output_type": "stream",
     "text": [
      "frames good\n"
     ]
    }
   ],
   "source": [
    "spot_processor_230303 = two_spot_processor.extract_data(datafile, mtrigger_file, resp_file, metadata_file, laser_trigger_file, optostim = False)"
   ]
  },
  {
   "cell_type": "code",
   "execution_count": 29,
   "metadata": {},
   "outputs": [
    {
     "name": "stdout",
     "output_type": "stream",
     "text": [
      "data extraction complete, data file saved\n"
     ]
    }
   ],
   "source": [
    "savepath = r'C:\\Users\\rmb55\\most_updated_pattern_stim\\pattern_stim_analysis\\breath-triggered_sequence_aPCx\\two_spot_stim\\phase_shift\\controls\\summary_data\\230303_control.npy'\n",
    "sequence_timing_indices = np.arange(65)\n",
    "spot_processor_230303.save_expt_data(savepath, sequence_timing_indices, blank_control_index = 64, window_end = .3)"
   ]
  },
  {
   "cell_type": "markdown",
   "metadata": {},
   "source": [
    "## Date: 230324\n",
    "- mouse: P161\n",
    "- genotype: OMP-ChRV+/-\n",
    "- experiment: 2 spot stimulation, phase shift\n",
    "- optostim: false"
   ]
  },
  {
   "cell_type": "code",
   "execution_count": 30,
   "metadata": {},
   "outputs": [],
   "source": [
    "datafile = [r'Z:\\robin\\expt_sets\\pattern_stim\\recordings\\230324\\2023-03-24_11-49-51\\experiment1\\recording1\\sc\\230324-001_bank1\\230324-001_bank1.result-1.hdf5', r'Z:\\robin\\expt_sets\\pattern_stim\\recordings\\230324\\2023-03-24_11-49-51\\experiment1\\recording1\\sc\\230324-001_bank2\\230324-001_bank2.result-1.hdf5'] \n",
    "mtrigger_file = r'Z:\\robin\\expt_sets\\pattern_stim\\recordings\\230324\\2023-03-24_11-49-51\\experiment1\\recording1\\continuous\\Rhythm_FPGA-100.0\\230324_mtrigger.dat'\n",
    "resp_file = r'Z:\\robin\\expt_sets\\pattern_stim\\recordings\\230324\\2023-03-24_11-49-51\\experiment1\\recording1\\continuous\\Rhythm_FPGA-100.0\\230324_breath.dat'\n",
    "laser_trigger_file = r'Z:\\robin\\expt_sets\\pattern_stim\\recordings\\230324\\2023-03-24_11-49-51\\experiment1\\recording1\\continuous\\Rhythm_FPGA-100.0\\230324_LEDtrigger.dat'\n",
    "laser_trigger_file2 = r'Z:\\robin\\expt_sets\\pattern_stim\\recordings\\230324\\2023-03-24_11-49-51\\experiment1\\recording1\\continuous\\Rhythm_FPGA-100.0\\230324_LEDtrigger2.dat'\n",
    "metadata_file = r'Z:\\robin\\expt_sets\\pattern_stim\\metadata\\230324\\P161_2023_3_24_115041'"
   ]
  },
  {
   "cell_type": "code",
   "execution_count": 31,
   "metadata": {},
   "outputs": [
    {
     "name": "stdout",
     "output_type": "stream",
     "text": [
      "frames good\n"
     ]
    }
   ],
   "source": [
    "spot_processor_230324 = two_spot_processor.extract_data(datafile, mtrigger_file, resp_file, metadata_file, laser_trigger_file, optostim = False)"
   ]
  },
  {
   "cell_type": "code",
   "execution_count": 32,
   "metadata": {},
   "outputs": [
    {
     "name": "stdout",
     "output_type": "stream",
     "text": [
      "data extraction complete, data file saved\n"
     ]
    }
   ],
   "source": [
    "savepath = r'C:\\Users\\rmb55\\most_updated_pattern_stim\\pattern_stim_analysis\\breath-triggered_sequence_aPCx\\two_spot_stim\\phase_shift\\controls\\summary_data\\230324_control.npy'\n",
    "sequence_timing_indices = np.arange(65)\n",
    "spot_processor_230324.save_expt_data(savepath, sequence_timing_indices, blank_control_index = 64, window_end = .3)"
   ]
  },
  {
   "cell_type": "markdown",
   "metadata": {},
   "source": [
    "## Date: 230727\n",
    "- mouse: P168\n",
    "- genotype: OMP-ChRV+/-\n",
    "- experiment: 2 spot stimulation, phase shift, naris occlusion\n",
    "- optostim: false"
   ]
  },
  {
   "cell_type": "code",
   "execution_count": 33,
   "metadata": {},
   "outputs": [],
   "source": [
    "datafile = [r'Z:\\robin\\expt_sets\\pattern_stim\\recordings\\230727\\2023-07-27_12-01-27\\experiment1\\recording2\\sc\\230727-001_bank1\\230727-001_bank1.result-1.hdf5',r'Z:\\robin\\expt_sets\\pattern_stim\\recordings\\230727\\2023-07-27_12-01-27\\experiment1\\recording2\\sc\\230727-001_bank2\\230727-001_bank2.result-1.hdf5'] \n",
    "mtrigger_file = r'Z:\\robin\\expt_sets\\pattern_stim\\recordings\\230727\\2023-07-27_12-01-27\\experiment1\\recording2\\continuous\\Rhythm_FPGA-100.0\\230727_mtrigger.dat'\n",
    "resp_file = r'Z:\\robin\\expt_sets\\pattern_stim\\recordings\\230727\\2023-07-27_12-01-27\\experiment1\\recording2\\continuous\\Rhythm_FPGA-100.0\\230727_breath.dat'\n",
    "laser_trigger_file = r'Z:\\robin\\expt_sets\\pattern_stim\\recordings\\230727\\2023-07-27_12-01-27\\experiment1\\recording2\\continuous\\Rhythm_FPGA-100.0\\230727_LEDtrigger.dat'\n",
    "laser_trigger_file2 = r'Z:\\robin\\expt_sets\\pattern_stim\\recordings\\230727\\2023-07-27_12-01-27\\experiment1\\recording2\\continuous\\Rhythm_FPGA-100.0\\230727_LEDtrigger2.dat'\n",
    "metadata_file = r'Z:\\robin\\expt_sets\\pattern_stim\\metadata\\230727\\P168_2023_7_27_12216'"
   ]
  },
  {
   "cell_type": "code",
   "execution_count": 34,
   "metadata": {},
   "outputs": [
    {
     "name": "stdout",
     "output_type": "stream",
     "text": [
      "frames good\n"
     ]
    }
   ],
   "source": [
    "spot_processor_230727 = two_spot_processor.extract_data(datafile, mtrigger_file, resp_file, metadata_file, laser_trigger_file, optostim = False)"
   ]
  },
  {
   "cell_type": "code",
   "execution_count": 35,
   "metadata": {},
   "outputs": [
    {
     "name": "stdout",
     "output_type": "stream",
     "text": [
      "data extraction complete, data file saved\n"
     ]
    }
   ],
   "source": [
    "savepath = r'C:\\Users\\rmb55\\most_updated_pattern_stim\\pattern_stim_analysis\\breath-triggered_sequence_aPCx\\two_spot_stim\\phase_shift\\controls\\summary_data\\230727_control.npy'\n",
    "sequence_timing_indices = np.arange(61)\n",
    "spot_processor_230727.save_expt_data(savepath, sequence_timing_indices, blank_control_index = 60, window_end = .3)"
   ]
  },
  {
   "cell_type": "code",
   "execution_count": null,
   "metadata": {},
   "outputs": [],
   "source": []
  }
 ],
 "metadata": {
  "kernelspec": {
   "display_name": "Python 3 (ipykernel)",
   "language": "python",
   "name": "python3"
  },
  "language_info": {
   "codemirror_mode": {
    "name": "ipython",
    "version": 3
   },
   "file_extension": ".py",
   "mimetype": "text/x-python",
   "name": "python",
   "nbconvert_exporter": "python",
   "pygments_lexer": "ipython3",
   "version": "3.7.16"
  }
 },
 "nbformat": 4,
 "nbformat_minor": 4
}
