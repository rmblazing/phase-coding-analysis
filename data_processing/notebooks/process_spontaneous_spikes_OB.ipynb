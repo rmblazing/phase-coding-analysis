{
 "cells": [
  {
   "cell_type": "code",
   "execution_count": 4,
   "id": "2cb71d9a-cdba-408c-bd64-8efe6f6fbc51",
   "metadata": {
    "tags": []
   },
   "outputs": [],
   "source": [
    "import numpy as np\n",
    "import os\n",
    "import spontaneous_activity_analyzer"
   ]
  },
  {
   "cell_type": "code",
   "execution_count": 5,
   "id": "a481d9b7-db7a-4dcd-9a22-c962ee1f408f",
   "metadata": {
    "tags": []
   },
   "outputs": [],
   "source": [
    "def run_spontaneous_analysis(datafile, resp_phase_path, mtrigger_file, phase_stats_path, phase_tuning_path):\n",
    "    \n",
    "    # create an instance of the spontaneous analyzer class \n",
    "    spontaneous_analyzer = spontaneous_activity_analyzer.Spontaneous_activity_analysis(datafile, resp_phase_path, mtrigger_file, phase_stats_path, phase_tuning_path)\n",
    "    # for each cell, get the spontaneous phase locking \n",
    "    spontaneous_tuning, spontaneous_bin_rate, duration_in_resp_bin = spontaneous_analyzer.get_spontaneous_tuning()\n",
    "    # for each cell-spot pair, get the significant tuning curves \n",
    "    stim_tuning, mean_stim_tuning, _ = spontaneous_analyzer.get_sig_tuning_curves()\n",
    "\n",
    "    # for each cell, compute the preferred spontaneous phase and a confidence interval from shuffled spikes to assess the extent of phase locking \n",
    "    bins = np.arange(0,np.radians(360)+np.radians(9), np.radians(9))\n",
    "    phase_locking_bootstrap = spontaneous_analyzer.get_phase_locking_bootstrap(bins)\n",
    "    lower_CI, upper_CI, phase_hist, spontaneously_locked, percent_locked_spikes = spontaneous_analyzer.get_phase_locked_cells(phase_locking_bootstrap, bins)\n",
    "    \n",
    "    return spontaneous_tuning, spontaneous_bin_rate, stim_tuning, spontaneously_locked, percent_locked_spikes, lower_CI, upper_CI, phase_hist, duration_in_resp_bin"
   ]
  },
  {
   "cell_type": "code",
   "execution_count": 6,
   "id": "f412325a-9212-4a2c-9bed-f33341d2dbcb",
   "metadata": {
    "tags": []
   },
   "outputs": [],
   "source": [
    "all_path_dicts = []"
   ]
  },
  {
   "cell_type": "code",
   "execution_count": 7,
   "id": "78a3473d-2806-4323-8a26-5d80bd153f9d",
   "metadata": {
    "tags": []
   },
   "outputs": [],
   "source": [
    "datafile = [r'Z:\\robin\\expt_sets\\pattern_stim\\recordings\\231016\\2023-10-16_13-51-58\\experiment1\\recording1\\sc\\231016-001_bank1\\231016-001_bank1.result-1.hdf5', \n",
    "            r'Z:\\robin\\expt_sets\\pattern_stim\\recordings\\231016\\2023-10-16_13-51-58\\experiment1\\recording1\\sc\\231016-001_bank2\\231016-001_bank2.result-1.hdf5']\n",
    "mtrigger_file = r'Z:\\robin\\expt_sets\\pattern_stim\\recordings\\231016\\2023-10-16_13-51-58\\experiment1\\recording1\\continuous\\Rhythm_FPGA-100.0\\231016_mtrigger.dat'\n",
    "phase_tuning_path = r'Z:\\robin\\Paper\\phase_coding_manuscript\\data\\fig1_supplement\\bulb\\phase_tuning\\231016.npy'\n",
    "phase_stats_path = r'Z:\\robin\\Paper\\phase_coding_manuscript\\data\\fig1_supplement\\bulb\\phase_stats\\231016.npy'\n",
    "resp_phase_path = r'Z:\\robin\\Paper\\phase_coding_manuscript\\data\\fig1_supplement\\bulb\\resp_data\\231016.npy'\n",
    "path_dict = {'experiment_ID': '231016', 'datafile':datafile, 'mtrigger_file':mtrigger_file, 'phase_tuning_path':phase_tuning_path, 'phase_stats_path':phase_stats_path, 'resp_phase_path':resp_phase_path}\n",
    "all_path_dicts.append(path_dict)"
   ]
  },
  {
   "cell_type": "code",
   "execution_count": 8,
   "id": "415a64b8-cd98-44ee-9d6d-7742c2486e88",
   "metadata": {
    "tags": []
   },
   "outputs": [],
   "source": [
    "datafile = [r'Z:\\robin\\expt_sets\\pattern_stim\\recordings\\231017\\2023-10-17_13-20-00\\experiment1\\recording1\\sc\\231017-001_bank1\\231017-001_bank1.result-1.hdf5', \n",
    "            r'Z:\\robin\\expt_sets\\pattern_stim\\recordings\\231017\\2023-10-17_13-20-00\\experiment1\\recording1\\sc\\231017-001_bank2\\231017-001_bank2.result-1.hdf5']\n",
    "mtrigger_file = r'Z:\\robin\\expt_sets\\pattern_stim\\recordings\\231017\\2023-10-17_13-20-00\\experiment1\\recording1\\continuous\\Rhythm_FPGA-100.0\\231017_mtrigger.dat'\n",
    "phase_tuning_path = r'Z:\\robin\\Paper\\phase_coding_manuscript\\data\\fig1_supplement\\bulb\\phase_tuning\\231017.npy'\n",
    "phase_stats_path = r'Z:\\robin\\Paper\\phase_coding_manuscript\\data\\fig1_supplement\\bulb\\phase_stats\\231017.npy'\n",
    "resp_phase_path = r'Z:\\robin\\Paper\\phase_coding_manuscript\\data\\fig1_supplement\\bulb\\resp_data\\231017.npy'\n",
    "path_dict = {'experiment_ID': '231017', 'datafile':datafile, 'mtrigger_file':mtrigger_file, 'phase_tuning_path':phase_tuning_path, 'phase_stats_path':phase_stats_path, 'resp_phase_path':resp_phase_path}\n",
    "all_path_dicts.append(path_dict)"
   ]
  },
  {
   "cell_type": "code",
   "execution_count": 9,
   "id": "b5beb1a2-7bd8-4ebe-b4d9-6294ddbc1ece",
   "metadata": {
    "tags": []
   },
   "outputs": [],
   "source": [
    "datafile = [r'Z:\\robin\\expt_sets\\pattern_stim\\recordings\\231023\\2023-10-23_11-49-58\\experiment1\\recording1\\sc\\231023-001_bank1\\231023-001_bank1.result-1.hdf5', \n",
    "            r'Z:\\robin\\expt_sets\\pattern_stim\\recordings\\231023\\2023-10-23_11-49-58\\experiment1\\recording1\\sc\\231023-001_bank2\\231023-001_bank2.result-1.hdf5']\n",
    "mtrigger_file = r'Z:\\robin\\expt_sets\\pattern_stim\\recordings\\231023\\2023-10-23_11-49-58\\experiment1\\recording1\\continuous\\Rhythm_FPGA-100.0\\231023_mtrigger.dat'\n",
    "phase_tuning_path = r'Z:\\robin\\Paper\\phase_coding_manuscript\\data\\fig1_supplement\\bulb\\phase_tuning\\231023.npy'\n",
    "phase_stats_path = r'Z:\\robin\\Paper\\phase_coding_manuscript\\data\\fig1_supplement\\bulb\\phase_stats\\231023.npy'\n",
    "resp_phase_path = r'Z:\\robin\\Paper\\phase_coding_manuscript\\data\\fig1_supplement\\bulb\\resp_data\\231023.npy'\n",
    "path_dict = {'experiment_ID': '231023', 'datafile':datafile, 'mtrigger_file':mtrigger_file, 'phase_tuning_path':phase_tuning_path, 'phase_stats_path':phase_stats_path, 'resp_phase_path':resp_phase_path}\n",
    "all_path_dicts.append(path_dict)"
   ]
  },
  {
   "cell_type": "code",
   "execution_count": 10,
   "id": "783b8f1c-b87c-42c1-8bec-87c083844226",
   "metadata": {
    "tags": []
   },
   "outputs": [],
   "source": [
    "datafile = [r'Z:\\robin\\expt_sets\\pattern_stim\\recordings\\231024\\2023-10-24_11-19-06\\experiment1\\recording1\\sc\\231024-001_bank1\\231024-001_bank1.result-1.hdf5', \n",
    "            r'Z:\\robin\\expt_sets\\pattern_stim\\recordings\\231024\\2023-10-24_11-19-06\\experiment1\\recording1\\sc\\231024-001_bank2\\231024-001_bank2.result-1.hdf5']\n",
    "mtrigger_file = r'Z:\\robin\\expt_sets\\pattern_stim\\recordings\\231024\\2023-10-24_11-19-06\\experiment1\\recording1\\continuous\\Rhythm_FPGA-100.0\\231024_mtrigger.dat'\n",
    "phase_tuning_path = r'Z:\\robin\\Paper\\phase_coding_manuscript\\data\\fig1_supplement\\bulb\\phase_tuning\\231024.npy'\n",
    "phase_stats_path = r'Z:\\robin\\Paper\\phase_coding_manuscript\\data\\fig1_supplement\\bulb\\phase_stats\\231024.npy'\n",
    "resp_phase_path = r'Z:\\robin\\Paper\\phase_coding_manuscript\\data\\fig1_supplement\\bulb\\resp_data\\231024.npy'\n",
    "path_dict = {'experiment_ID': '231024', 'datafile':datafile, 'mtrigger_file':mtrigger_file, 'phase_tuning_path':phase_tuning_path, 'phase_stats_path':phase_stats_path, 'resp_phase_path':resp_phase_path}\n",
    "all_path_dicts.append(path_dict)"
   ]
  },
  {
   "cell_type": "code",
   "execution_count": 11,
   "id": "8e5918ca-57ca-41f3-987d-b6e474adcedd",
   "metadata": {
    "tags": []
   },
   "outputs": [],
   "source": [
    "datafile = [r'Z:\\robin\\expt_sets\\pattern_stim\\recordings\\231025\\2023-10-25_12-00-04\\experiment1\\recording1\\sc\\231025-001_bank1\\231025-001_bank1.result-1.hdf5',\n",
    "            r'Z:\\robin\\expt_sets\\pattern_stim\\recordings\\231025\\2023-10-25_12-00-04\\experiment1\\recording1\\sc\\231025-001_bank2\\231025-001_bank2.result-1.hdf5']\n",
    "mtrigger_file = r'Z:\\robin\\expt_sets\\pattern_stim\\recordings\\231025\\2023-10-25_12-00-04\\experiment1\\recording1\\continuous\\Rhythm_FPGA-100.0\\231025_mtrigger.dat'\n",
    "phase_tuning_path = r'Z:\\robin\\Paper\\phase_coding_manuscript\\data\\fig1_supplement\\bulb\\phase_tuning\\231025.npy'\n",
    "phase_stats_path = r'Z:\\robin\\Paper\\phase_coding_manuscript\\data\\fig1_supplement\\bulb\\phase_stats\\231025.npy'\n",
    "resp_phase_path = r'Z:\\robin\\Paper\\phase_coding_manuscript\\data\\fig1_supplement\\bulb\\resp_data\\231025.npy'\n",
    "path_dict = {'experiment_ID': '231025', 'datafile':datafile, 'mtrigger_file':mtrigger_file, 'phase_tuning_path':phase_tuning_path, 'phase_stats_path':phase_stats_path, 'resp_phase_path':resp_phase_path}\n",
    "all_path_dicts.append(path_dict)"
   ]
  },
  {
   "cell_type": "code",
   "execution_count": 12,
   "id": "beb5f9fd-9074-407b-ba34-04125c346008",
   "metadata": {
    "tags": []
   },
   "outputs": [],
   "source": [
    "datafile = [r'Z:\\robin\\expt_sets\\pattern_stim\\recordings\\231026\\2023-10-26_11-19-21\\experiment1\\recording1\\sc\\231026-001_bank1\\231026-001_bank1.result-1.hdf5',\n",
    "            r'Z:\\robin\\expt_sets\\pattern_stim\\recordings\\231026\\2023-10-26_11-19-21\\experiment1\\recording1\\sc\\231026-001_bank2\\231026-001_bank2.result-1.hdf5']\n",
    "mtrigger_file = r'Z:\\robin\\expt_sets\\pattern_stim\\recordings\\231026\\2023-10-26_11-19-21\\experiment1\\recording1\\continuous\\Rhythm_FPGA-100.0\\231026_mtrigger.dat'\n",
    "phase_tuning_path = r'Z:\\robin\\Paper\\phase_coding_manuscript\\data\\fig1_supplement\\bulb\\phase_tuning\\231026.npy'\n",
    "phase_stats_path = r'Z:\\robin\\Paper\\phase_coding_manuscript\\data\\fig1_supplement\\bulb\\phase_stats\\231026.npy'\n",
    "resp_phase_path = r'Z:\\robin\\Paper\\phase_coding_manuscript\\data\\fig1_supplement\\bulb\\resp_data\\231026.npy'\n",
    "path_dict = {'experiment_ID': '231026', 'datafile':datafile, 'mtrigger_file':mtrigger_file, 'phase_tuning_path':phase_tuning_path, 'phase_stats_path':phase_stats_path, 'resp_phase_path':resp_phase_path}\n",
    "all_path_dicts.append(path_dict)"
   ]
  },
  {
   "cell_type": "code",
   "execution_count": 13,
   "id": "06b90386-cc22-4f62-b36d-6b065706f279",
   "metadata": {
    "tags": []
   },
   "outputs": [],
   "source": [
    "datafile = [r'Z:\\robin\\expt_sets\\pattern_stim\\recordings\\240813\\2024-08-13_15-58-33\\experiment1\\recording1\\sc\\240813-001_bank1\\240813-001_bank1.result-1.hdf5',\n",
    "            r'Z:\\robin\\expt_sets\\pattern_stim\\recordings\\240813\\2024-08-13_15-58-33\\experiment1\\recording1\\sc\\240813-001_bank2\\240813-001_bank2.result-1.hdf5']\n",
    "mtrigger_file = r'Z:\\robin\\expt_sets\\pattern_stim\\recordings\\240813\\2024-08-13_15-58-33\\experiment1\\recording1\\continuous\\Rhythm_FPGA-100.0\\240813_mtrigger.dat'\n",
    "phase_tuning_path = r'Z:\\robin\\Paper\\phase_coding_manuscript\\data\\fig1_supplement\\bulb\\phase_tuning\\240813.npy'\n",
    "phase_stats_path = r'Z:\\robin\\Paper\\phase_coding_manuscript\\data\\fig1_supplement\\bulb\\phase_stats\\240813.npy'\n",
    "resp_phase_path = r'Z:\\robin\\Paper\\phase_coding_manuscript\\data\\fig1_supplement\\bulb\\resp_data\\240813.npy'\n",
    "path_dict = {'experiment_ID': '240813', 'datafile':datafile, 'mtrigger_file':mtrigger_file, 'phase_tuning_path':phase_tuning_path, 'phase_stats_path':phase_stats_path, 'resp_phase_path':resp_phase_path}\n",
    "all_path_dicts.append(path_dict)"
   ]
  },
  {
   "cell_type": "code",
   "execution_count": 14,
   "id": "957da6ae-25d5-47d8-bbdb-49b0e8cb36f5",
   "metadata": {
    "tags": []
   },
   "outputs": [],
   "source": [
    "datafile = [r'Z:\\robin\\expt_sets\\pattern_stim\\recordings\\240814\\2024-08-14_15-23-37\\experiment1\\recording1\\sc\\240814-001_bank1\\240814-001_bank1.result-1.hdf5',\n",
    "            r'Z:\\robin\\expt_sets\\pattern_stim\\recordings\\240814\\2024-08-14_15-23-37\\experiment1\\recording1\\sc\\240814-001_bank2\\240814-001_bank2.result-1.hdf5']\n",
    "mtrigger_file = r'Z:\\robin\\expt_sets\\pattern_stim\\recordings\\240814\\2024-08-14_15-23-37\\experiment1\\recording1\\continuous\\Rhythm_FPGA-100.0\\240814_mtrigger.dat'\n",
    "phase_tuning_path = r'Z:\\robin\\Paper\\phase_coding_manuscript\\data\\fig1_supplement\\bulb\\phase_tuning\\240814.npy'\n",
    "phase_stats_path = r'Z:\\robin\\Paper\\phase_coding_manuscript\\data\\fig1_supplement\\bulb\\phase_stats\\240814.npy'\n",
    "resp_phase_path = r'Z:\\robin\\Paper\\phase_coding_manuscript\\data\\fig1_supplement\\bulb\\resp_data\\240814.npy'\n",
    "path_dict = {'experiment_ID': '240814', 'datafile':datafile, 'mtrigger_file':mtrigger_file, 'phase_tuning_path':phase_tuning_path, 'phase_stats_path':phase_stats_path, 'resp_phase_path':resp_phase_path}\n",
    "all_path_dicts.append(path_dict)"
   ]
  },
  {
   "cell_type": "code",
   "execution_count": 15,
   "id": "4ae2ceec-4ae1-443d-b9d0-e0d38fdffa29",
   "metadata": {
    "tags": []
   },
   "outputs": [],
   "source": [
    "datafile = [r'Z:\\robin\\expt_sets\\pattern_stim\\recordings\\240815\\2024-08-15_11-27-47\\experiment1\\recording1\\sc\\240815-001_bank1\\240815-001_bank1.result-1.hdf5',\n",
    "            r'Z:\\robin\\expt_sets\\pattern_stim\\recordings\\240815\\2024-08-15_11-27-47\\experiment1\\recording1\\sc\\240815-001_bank2\\240815-001_bank2.result-1.hdf5']\n",
    "mtrigger_file = r'Z:\\robin\\expt_sets\\pattern_stim\\recordings\\240815\\2024-08-15_11-27-47\\experiment1\\recording1\\continuous\\Rhythm_FPGA-100.0\\240815_mtrigger.dat'\n",
    "phase_tuning_path = r'Z:\\robin\\Paper\\phase_coding_manuscript\\data\\fig1_supplement\\bulb\\phase_tuning\\240815.npy'\n",
    "phase_stats_path = r'Z:\\robin\\Paper\\phase_coding_manuscript\\data\\fig1_supplement\\bulb\\phase_stats\\240815.npy'\n",
    "resp_phase_path = r'Z:\\robin\\Paper\\phase_coding_manuscript\\data\\fig1_supplement\\bulb\\resp_data\\240815.npy'\n",
    "path_dict = {'experiment_ID': '240815', 'datafile':datafile, 'mtrigger_file':mtrigger_file, 'phase_tuning_path':phase_tuning_path, 'phase_stats_path':phase_stats_path, 'resp_phase_path':resp_phase_path}\n",
    "all_path_dicts.append(path_dict)"
   ]
  },
  {
   "cell_type": "code",
   "execution_count": 16,
   "id": "46c5710f-41a4-4d7f-81f2-ef1aabc54a32",
   "metadata": {
    "tags": []
   },
   "outputs": [],
   "source": [
    "datafile = [r'Z:\\robin\\expt_sets\\pattern_stim\\recordings\\240819\\2024-08-19_15-32-00\\experiment1\\recording1\\sc\\240819-001_bank1\\240819-001_bank1.result-1.hdf5',\n",
    "            r'Z:\\robin\\expt_sets\\pattern_stim\\recordings\\240819\\2024-08-19_15-32-00\\experiment1\\recording1\\sc\\240819-001_bank2\\240819-001_bank2.result-1.hdf5']\n",
    "mtrigger_file = r'Z:\\robin\\expt_sets\\pattern_stim\\recordings\\240819\\2024-08-19_15-32-00\\experiment1\\recording1\\continuous\\Rhythm_FPGA-101.0\\240819_mtrigger.dat'\n",
    "phase_tuning_path = r'Z:\\robin\\Paper\\phase_coding_manuscript\\data\\fig1_supplement\\bulb\\phase_tuning\\240819.npy'\n",
    "phase_stats_path = r'Z:\\robin\\Paper\\phase_coding_manuscript\\data\\fig1_supplement\\bulb\\phase_stats\\240819.npy'\n",
    "resp_phase_path = r'Z:\\robin\\Paper\\phase_coding_manuscript\\data\\fig1_supplement\\bulb\\resp_data\\240819.npy'\n",
    "path_dict = {'experiment_ID': '240819', 'datafile':datafile, 'mtrigger_file':mtrigger_file, 'phase_tuning_path':phase_tuning_path, 'phase_stats_path':phase_stats_path, 'resp_phase_path':resp_phase_path}\n",
    "all_path_dicts.append(path_dict)"
   ]
  },
  {
   "cell_type": "code",
   "execution_count": 17,
   "id": "5233dcb1-615e-4650-ae28-339c4ef721ec",
   "metadata": {
    "tags": []
   },
   "outputs": [],
   "source": [
    "expt_ID = '240820'\n",
    "datafile = [r'Z:\\robin\\expt_sets\\pattern_stim\\recordings\\240820\\2024-08-20_16-30-29\\experiment1\\recording1\\sc\\240820-001_bank1\\240820-001_bank1.result-1.hdf5',\n",
    "            r'Z:\\robin\\expt_sets\\pattern_stim\\recordings\\240820\\2024-08-20_16-30-29\\experiment1\\recording1\\sc\\240820-001_bank2\\240820-001_bank2.result-1.hdf5']\n",
    "mtrigger_file = r'Z:\\robin\\expt_sets\\pattern_stim\\recordings\\240820\\2024-08-20_16-30-29\\experiment1\\recording1\\continuous\\Rhythm_FPGA-100.0\\240820_mtrigger.dat'\n",
    "phase_tuning_path = r'Z:\\robin\\Paper\\phase_coding_manuscript\\data\\fig1_supplement\\bulb\\phase_tuning\\240820.npy'\n",
    "phase_stats_path = r'Z:\\robin\\Paper\\phase_coding_manuscript\\data\\fig1_supplement\\bulb\\phase_stats\\240820.npy'\n",
    "resp_phase_path = r'Z:\\robin\\Paper\\phase_coding_manuscript\\data\\fig1_supplement\\bulb\\resp_data\\240820.npy'\n",
    "path_dict = {'experiment_ID': '240820', 'datafile':datafile, 'mtrigger_file':mtrigger_file, 'phase_tuning_path':phase_tuning_path, 'phase_stats_path':phase_stats_path, 'resp_phase_path':resp_phase_path}\n",
    "all_path_dicts.append(path_dict)"
   ]
  },
  {
   "cell_type": "code",
   "execution_count": 18,
   "id": "76e4fd08-d4e2-4a02-b0bf-6379452708ef",
   "metadata": {
    "tags": []
   },
   "outputs": [
    {
     "name": "stdout",
     "output_type": "stream",
     "text": [
      "processing experiment 231016\n",
      "spontaneous activity recorded for 15.75 minutes\n",
      "processing experiment 231017\n",
      "spontaneous activity recorded for 18.02 minutes\n",
      "processing experiment 231023\n",
      "spontaneous activity recorded for 18.68 minutes\n",
      "processing experiment 231024\n",
      "spontaneous activity recorded for 33.03 minutes\n",
      "processing experiment 231025\n",
      "spontaneous activity recorded for 18.31 minutes\n",
      "processing experiment 231026\n",
      "spontaneous activity recorded for 16.61 minutes\n",
      "processing experiment 240813\n",
      "spontaneous activity recorded for 17.93 minutes\n",
      "processing experiment 240814\n",
      "spontaneous activity recorded for 15.78 minutes\n",
      "processing experiment 240815\n",
      "spontaneous activity recorded for 20.11 minutes\n",
      "processing experiment 240819\n",
      "spontaneous activity recorded for 29.36 minutes\n",
      "processing experiment 240820\n",
      "spontaneous activity recorded for 22.9 minutes\n"
     ]
    }
   ],
   "source": [
    "all_spontaneous_tuning = []\n",
    "all_spontaneous_bin_rate = []\n",
    "all_stim_tuning = []\n",
    "all_duration_in_resp_bin = []\n",
    "all_spontaneously_locked = []\n",
    "all_percent_locked_spikes = []\n",
    "all_lower_CI = []\n",
    "all_upper_CI = []\n",
    "all_phase_hist = []\n",
    "\n",
    "for path_dict_num, path_dict in enumerate(all_path_dicts): \n",
    "    print('processing experiment ' + path_dict['experiment_ID'])\n",
    "    spontaneous_tuning, spontaneous_bin_rate, stim_tuning, spontaneously_locked, percent_locked_spikes, lower_CI, upper_CI, phase_hist, duration_in_resp_bin = run_spontaneous_analysis(path_dict['datafile'], path_dict['resp_phase_path'],  path_dict['mtrigger_file'],  \n",
    "                                                                                                                                                                                        path_dict['phase_stats_path'],  path_dict['phase_tuning_path'])\n",
    "    all_spontaneous_tuning.append(spontaneous_tuning)\n",
    "    all_stim_tuning.append(stim_tuning)\n",
    "    all_spontaneous_bin_rate.append(spontaneous_bin_rate)\n",
    "    all_duration_in_resp_bin.append(duration_in_resp_bin)\n",
    "    all_spontaneously_locked.append(spontaneously_locked)\n",
    "    all_percent_locked_spikes.append(percent_locked_spikes)\n",
    "    all_lower_CI.append(lower_CI)\n",
    "    all_upper_CI.append(upper_CI)\n",
    "    all_phase_hist.append(phase_hist)"
   ]
  },
  {
   "cell_type": "code",
   "execution_count": 21,
   "id": "c4d2cd89-9cf4-40db-93ff-262d295e7818",
   "metadata": {
    "tags": []
   },
   "outputs": [],
   "source": [
    "# create a dictionary to save the relevant fields \n",
    "spontaneous_spiking_OB_control = {'all_spontaneous_tuning':all_spontaneous_tuning, 'all_stim_tuning':all_stim_tuning, 'all_spontaneous_bin_rate':all_spontaneous_bin_rate, 'all_duration_in_resp_bin':all_duration_in_resp_bin, 'all_spontaneously_locked':all_spontaneously_locked,\n",
    "                                    'all_percent_locked_spikes':all_percent_locked_spikes, 'all_lower_CI':all_lower_CI, 'all_upper_CI':all_upper_CI, 'all_phase_hist':all_phase_hist}"
   ]
  },
  {
   "cell_type": "code",
   "execution_count": 22,
   "id": "fcce99f2-fd29-4c00-b6ed-184e60ed82c6",
   "metadata": {
    "tags": []
   },
   "outputs": [],
   "source": [
    "# save the data \n",
    "os.chdir(r'S:\\All_Staff\\robin\\Paper\\phase_coding_manuscript\\final_data\\fig5')\n",
    "np.save('spontaneous_spiking_OB_control', [spontaneous_spiking_OB_control])"
   ]
  },
  {
   "cell_type": "code",
   "execution_count": null,
   "id": "6461fecf-36c7-4876-9e0f-c84001c71e8d",
   "metadata": {},
   "outputs": [],
   "source": []
  }
 ],
 "metadata": {
  "kernelspec": {
   "display_name": "Python 3 (ipykernel)",
   "language": "python",
   "name": "python3"
  },
  "language_info": {
   "codemirror_mode": {
    "name": "ipython",
    "version": 3
   },
   "file_extension": ".py",
   "mimetype": "text/x-python",
   "name": "python",
   "nbconvert_exporter": "python",
   "pygments_lexer": "ipython3",
   "version": "3.7.16"
  }
 },
 "nbformat": 4,
 "nbformat_minor": 5
}
