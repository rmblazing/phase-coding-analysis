{
 "cells": [
  {
   "cell_type": "code",
   "execution_count": 15,
   "id": "2cb71d9a-cdba-408c-bd64-8efe6f6fbc51",
   "metadata": {
    "tags": []
   },
   "outputs": [],
   "source": [
    "import numpy as np\n",
    "import os\n",
    "import spontaneous_activity_analyzer"
   ]
  },
  {
   "cell_type": "markdown",
   "id": "5ab847ca-1090-43d3-9492-7c3c9dd005fc",
   "metadata": {},
   "source": [
    "### This processor is used to perform spontaneous ativity analysis for naris occlusion experiments.\n",
    "### Here, we will analyze trials performed in the contralateral occlusion condition."
   ]
  },
  {
   "cell_type": "code",
   "execution_count": 16,
   "id": "a481d9b7-db7a-4dcd-9a22-c962ee1f408f",
   "metadata": {
    "tags": []
   },
   "outputs": [],
   "source": [
    "def run_spontaneous_analysis(datafile, resp_phase_path, mtrigger_file, phase_stats_path, phase_tuning_path, expt_type = []):\n",
    "    \n",
    "    spontaneous_analyzer = spontaneous_activity_analyzer.Spontaneous_activity_analysis(datafile, resp_phase_path, mtrigger_file, phase_stats_path, phase_tuning_path, expt_type = expt_type)\n",
    "    spontaneous_tuning, spontaneous_bin_rate, duration_in_resp_bin = spontaneous_analyzer.get_spontaneous_tuning()\n",
    "    stim_tuning, mean_stim_tuning, _ = spontaneous_analyzer.get_sig_tuning_curves()\n",
    "    \n",
    "    bins = np.arange(0,np.radians(360)+np.radians(9), np.radians(9))\n",
    "    phase_locking_bootstrap = spontaneous_analyzer.get_phase_locking_bootstrap(bins)\n",
    "    lower_CI, upper_CI, phase_hist, spontaneously_locked, percent_locked_spikes = spontaneous_analyzer.get_phase_locked_cells(phase_locking_bootstrap, bins)\n",
    "    \n",
    "    return spontaneous_tuning, spontaneous_bin_rate, stim_tuning, spontaneously_locked, percent_locked_spikes, lower_CI, upper_CI, phase_hist, duration_in_resp_bin"
   ]
  },
  {
   "cell_type": "code",
   "execution_count": 17,
   "id": "f412325a-9212-4a2c-9bed-f33341d2dbcb",
   "metadata": {
    "tags": []
   },
   "outputs": [],
   "source": [
    "all_path_dicts = []"
   ]
  },
  {
   "cell_type": "code",
   "execution_count": 18,
   "id": "78a3473d-2806-4323-8a26-5d80bd153f9d",
   "metadata": {
    "tags": []
   },
   "outputs": [],
   "source": [
    "datafile = [r'Z:\\robin\\expt_sets\\pattern_stim\\recordings\\230421\\2023-04-21_12-45-55\\experiment1\\recording1\\sc\\230421-001_bank1\\230421-001_bank1.result-1.hdf5',\n",
    "           r'Z:\\robin\\expt_sets\\pattern_stim\\recordings\\230421\\2023-04-21_12-45-55\\experiment1\\recording1\\sc\\230421-001_bank2\\230421-001_bank2.result-1.hdf5']\n",
    "mtrigger_file = r'Z:\\robin\\expt_sets\\pattern_stim\\recordings\\230421\\2023-04-21_12-45-55\\experiment1\\recording1\\continuous\\Rhythm_FPGA-100.0\\230421_mtrigger.dat'\n",
    "phase_tuning_path = r'Z:\\robin\\Paper\\phase_coding_manuscript\\data\\fig2\\phase_tuning\\contra\\230421.npy'\n",
    "phase_stats_path = r'Z:\\robin\\Paper\\phase_coding_manuscript\\data\\fig2\\phase_stats\\contra\\230421.npy'\n",
    "resp_phase_path = r'Z:\\robin\\Paper\\phase_coding_manuscript\\data\\fig2\\resp_data\\230421.npy'\n",
    "path_dict = {'experiment_ID': '230421', 'datafile':datafile, 'mtrigger_file':mtrigger_file, 'phase_tuning_path':phase_tuning_path, 'phase_stats_path':phase_stats_path, 'resp_phase_path':resp_phase_path}\n",
    "all_path_dicts.append(path_dict)"
   ]
  },
  {
   "cell_type": "code",
   "execution_count": 19,
   "id": "415a64b8-cd98-44ee-9d6d-7742c2486e88",
   "metadata": {
    "tags": []
   },
   "outputs": [],
   "source": [
    "datafile = [r'Z:\\robin\\expt_sets\\pattern_stim\\recordings\\230501\\2023-05-01_12-35-36\\experiment1\\recording1\\sc\\230501-001_bank1\\230501-001_bank1.result-1.hdf5',\n",
    "           r'Z:\\robin\\expt_sets\\pattern_stim\\recordings\\230501\\2023-05-01_12-35-36\\experiment1\\recording1\\sc\\230501-001_bank2\\230501-001_bank2.result-1.hdf5']\n",
    "mtrigger_file = r'Z:\\robin\\expt_sets\\pattern_stim\\recordings\\230501\\2023-05-01_12-35-36\\experiment1\\recording1\\continuous\\Rhythm_FPGA-100.0\\230501_mtrigger.dat'\n",
    "phase_tuning_path = r'Z:\\robin\\Paper\\phase_coding_manuscript\\data\\fig2\\phase_tuning\\contra\\230501.npy'\n",
    "phase_stats_path = r'Z:\\robin\\Paper\\phase_coding_manuscript\\data\\fig2\\phase_stats\\contra\\230501.npy'\n",
    "resp_phase_path = r'Z:\\robin\\Paper\\phase_coding_manuscript\\data\\fig2\\resp_data\\230501.npy'\n",
    "path_dict = {'experiment_ID': '230501', 'datafile':datafile, 'mtrigger_file':mtrigger_file, 'phase_tuning_path':phase_tuning_path, 'phase_stats_path':phase_stats_path, 'resp_phase_path':resp_phase_path}\n",
    "all_path_dicts.append(path_dict)"
   ]
  },
  {
   "cell_type": "code",
   "execution_count": 20,
   "id": "b5beb1a2-7bd8-4ebe-b4d9-6294ddbc1ece",
   "metadata": {
    "tags": []
   },
   "outputs": [],
   "source": [
    "datafile = [r'Z:\\robin\\expt_sets\\pattern_stim\\recordings\\230509\\2023-05-09_13-18-25\\experiment1\\recording2\\sc\\230509-001_bank1\\230509-001_bank1.result-1.hdf5',\n",
    "           r'Z:\\robin\\expt_sets\\pattern_stim\\recordings\\230509\\2023-05-09_13-18-25\\experiment1\\recording2\\sc\\230509-001_bank2\\230509-001_bank2.result-1.hdf5']\n",
    "mtrigger_file = r'Z:\\robin\\expt_sets\\pattern_stim\\recordings\\230509\\2023-05-09_13-18-25\\experiment1\\recording2\\continuous\\Rhythm_FPGA-100.0\\230509_mtrigger.dat'\n",
    "phase_tuning_path = r'Z:\\robin\\Paper\\phase_coding_manuscript\\data\\fig2\\phase_tuning\\contra\\230509.npy'\n",
    "phase_stats_path = r'Z:\\robin\\Paper\\phase_coding_manuscript\\data\\fig2\\phase_stats\\contra\\230509.npy'\n",
    "resp_phase_path = r'Z:\\robin\\Paper\\phase_coding_manuscript\\data\\fig2\\resp_data\\230509.npy'\n",
    "path_dict = {'experiment_ID': '230509', 'datafile':datafile, 'mtrigger_file':mtrigger_file, 'phase_tuning_path':phase_tuning_path, 'phase_stats_path':phase_stats_path, 'resp_phase_path':resp_phase_path}\n",
    "all_path_dicts.append(path_dict)"
   ]
  },
  {
   "cell_type": "code",
   "execution_count": 21,
   "id": "783b8f1c-b87c-42c1-8bec-87c083844226",
   "metadata": {
    "tags": []
   },
   "outputs": [],
   "source": [
    "datafile = [r'Z:\\robin\\expt_sets\\pattern_stim\\recordings\\230622\\2023-06-22_13-00-06\\experiment1\\recording1\\sc\\230622-001_bank1\\230622-001_bank1.result-1.hdf5',\n",
    "           r'Z:\\robin\\expt_sets\\pattern_stim\\recordings\\230622\\2023-06-22_13-00-06\\experiment1\\recording1\\sc\\230622-001_bank2\\230622-001_bank2.result-1.hdf5']\n",
    "mtrigger_file = r'Z:\\robin\\expt_sets\\pattern_stim\\recordings\\230622\\2023-06-22_13-00-06\\experiment1\\recording1\\continuous\\Rhythm_FPGA-100.0\\230622_mtrigger.dat'\n",
    "phase_tuning_path = r'Z:\\robin\\Paper\\phase_coding_manuscript\\data\\fig2\\phase_tuning\\contra\\230622.npy'\n",
    "phase_stats_path = r'Z:\\robin\\Paper\\phase_coding_manuscript\\data\\fig2\\phase_stats\\contra\\230622.npy'\n",
    "resp_phase_path = r'Z:\\robin\\Paper\\phase_coding_manuscript\\data\\fig2\\resp_data\\230622.npy'\n",
    "path_dict = {'experiment_ID': '230622', 'datafile':datafile, 'mtrigger_file':mtrigger_file, 'phase_tuning_path':phase_tuning_path, 'phase_stats_path':phase_stats_path, 'resp_phase_path':resp_phase_path}\n",
    "all_path_dicts.append(path_dict)"
   ]
  },
  {
   "cell_type": "code",
   "execution_count": 22,
   "id": "8e5918ca-57ca-41f3-987d-b6e474adcedd",
   "metadata": {
    "tags": []
   },
   "outputs": [],
   "source": [
    "datafile = [r'Z:\\robin\\expt_sets\\pattern_stim\\recordings\\230724\\2023-07-24_12-07-08\\experiment1\\recording2\\sc\\230724-001_bank1\\230724-001_bank1.result-1.hdf5',\n",
    "           r'Z:\\robin\\expt_sets\\pattern_stim\\recordings\\230724\\2023-07-24_12-07-08\\experiment1\\recording2\\sc\\230724-001_bank2\\230724-001_bank2.result-1.hdf5']\n",
    "mtrigger_file = r'Z:\\robin\\expt_sets\\pattern_stim\\recordings\\230724\\2023-07-24_12-07-08\\experiment1\\recording2\\continuous\\Rhythm_FPGA-100.0\\230724_mtrigger.dat'\n",
    "phase_tuning_path = r'Z:\\robin\\Paper\\phase_coding_manuscript\\data\\fig2\\phase_tuning\\contra\\230724.npy'\n",
    "phase_stats_path = r'Z:\\robin\\Paper\\phase_coding_manuscript\\data\\fig2\\phase_stats\\contra\\230724.npy'\n",
    "resp_phase_path = r'Z:\\robin\\Paper\\phase_coding_manuscript\\data\\fig2\\resp_data\\230724.npy'\n",
    "path_dict = {'experiment_ID': '230724', 'datafile':datafile, 'mtrigger_file':mtrigger_file, 'phase_tuning_path':phase_tuning_path, 'phase_stats_path':phase_stats_path, 'resp_phase_path':resp_phase_path}\n",
    "all_path_dicts.append(path_dict)"
   ]
  },
  {
   "cell_type": "code",
   "execution_count": 23,
   "id": "5c181802-6a04-4ade-92d1-bf9bb60bf836",
   "metadata": {},
   "outputs": [],
   "source": [
    "datafile = [r'Z:\\robin\\expt_sets\\pattern_stim\\recordings\\230731\\2023-07-31_11-26-20\\experiment1\\recording2\\sc\\230731-001_bank1\\230731-001_bank1.result-1.hdf5',\n",
    "           r'Z:\\robin\\expt_sets\\pattern_stim\\recordings\\230731\\2023-07-31_11-26-20\\experiment1\\recording2\\sc\\230731-001_bank2\\230731-001_bank2.result-1.hdf5']\n",
    "mtrigger_file = r'Z:\\robin\\expt_sets\\pattern_stim\\recordings\\230731\\2023-07-31_11-26-20\\experiment1\\recording2\\continuous\\Rhythm_FPGA-100.0\\230731_mtrigger.dat'\n",
    "phase_tuning_path = r'Z:\\robin\\Paper\\phase_coding_manuscript\\data\\fig2\\phase_tuning\\contra\\230731.npy'\n",
    "phase_stats_path = r'Z:\\robin\\Paper\\phase_coding_manuscript\\data\\fig2\\phase_stats\\contra\\230731.npy'\n",
    "resp_phase_path = r'Z:\\robin\\Paper\\phase_coding_manuscript\\data\\fig2\\resp_data\\230731.npy'\n",
    "path_dict = {'experiment_ID': '230731', 'datafile':datafile, 'mtrigger_file':mtrigger_file, 'phase_tuning_path':phase_tuning_path, 'phase_stats_path':phase_stats_path, 'resp_phase_path':resp_phase_path}\n",
    "all_path_dicts.append(path_dict)"
   ]
  },
  {
   "cell_type": "code",
   "execution_count": 24,
   "id": "76e4fd08-d4e2-4a02-b0bf-6379452708ef",
   "metadata": {
    "tags": []
   },
   "outputs": [
    {
     "name": "stdout",
     "output_type": "stream",
     "text": [
      "processing experiment 230421\n",
      "spontaneous activity recorded for 10.0 minutes\n",
      "processing experiment 230501\n",
      "spontaneous activity recorded for 10.0 minutes\n",
      "processing experiment 230509\n",
      "spontaneous activity recorded for 10.0 minutes\n",
      "processing experiment 230622\n",
      "spontaneous activity recorded for 10.0 minutes\n",
      "processing experiment 230724\n",
      "spontaneous activity recorded for 10.0 minutes\n",
      "processing experiment 230731\n",
      "spontaneous activity recorded for 10.0 minutes\n"
     ]
    }
   ],
   "source": [
    "all_spontaneous_tuning = []\n",
    "all_spontaneous_bin_rate = []\n",
    "all_stim_tuning = []\n",
    "all_duration_in_resp_bin = []\n",
    "all_spontaneously_locked = []\n",
    "all_percent_locked_spikes = []\n",
    "all_lower_CI = []\n",
    "all_upper_CI = []\n",
    "all_phase_hist = []\n",
    "\n",
    "for path_dict_num, path_dict in enumerate(all_path_dicts): \n",
    "    print('processing experiment ' + path_dict['experiment_ID'])\n",
    "    spontaneous_tuning, spontaneous_bin_rate, stim_tuning, spontaneously_locked, percent_locked_spikes, lower_CI, upper_CI, phase_hist, duration_in_resp_bin = run_spontaneous_analysis(path_dict['datafile'], path_dict['resp_phase_path'],  path_dict['mtrigger_file'],  \n",
    "                                                                                                                                                                                        path_dict['phase_stats_path'],  path_dict['phase_tuning_path'], expt_type = 'contra_occlusion')\n",
    "    all_spontaneous_tuning.append(spontaneous_tuning)\n",
    "    all_stim_tuning.append(stim_tuning)\n",
    "    all_spontaneous_bin_rate.append(spontaneous_bin_rate)\n",
    "    all_duration_in_resp_bin.append(duration_in_resp_bin)\n",
    "    all_spontaneously_locked.append(spontaneously_locked)\n",
    "    all_percent_locked_spikes.append(percent_locked_spikes)\n",
    "    all_lower_CI.append(lower_CI)\n",
    "    all_upper_CI.append(upper_CI)\n",
    "    all_phase_hist.append(phase_hist)"
   ]
  },
  {
   "cell_type": "code",
   "execution_count": 25,
   "id": "c4d2cd89-9cf4-40db-93ff-262d295e7818",
   "metadata": {
    "tags": []
   },
   "outputs": [],
   "source": [
    "# create a dictionary to save the relevant fields \n",
    "spontaneous_spiking_PCx_contra_occlusion = {'all_spontaneous_tuning':all_spontaneous_tuning, 'all_stim_tuning':all_stim_tuning, 'all_spontaneous_bin_rate':all_spontaneous_bin_rate, 'all_duration_in_resp_bin':all_duration_in_resp_bin, 'all_spontaneously_locked':all_spontaneously_locked,\n",
    "                                    'all_percent_locked_spikes':all_percent_locked_spikes, 'all_lower_CI':all_lower_CI, 'all_upper_CI':all_upper_CI, 'all_phase_hist':all_phase_hist}"
   ]
  },
  {
   "cell_type": "code",
   "execution_count": 27,
   "id": "fcce99f2-fd29-4c00-b6ed-184e60ed82c6",
   "metadata": {
    "tags": []
   },
   "outputs": [],
   "source": [
    "# save the data \n",
    "os.chdir(r'S:\\All_Staff\\robin\\Paper\\phase_coding_manuscript\\final_data\\fig3')\n",
    "np.save('spontaneous_spiking_PCx_contra_occlusion', [spontaneous_spiking_PCx_contra_occlusion])"
   ]
  },
  {
   "cell_type": "code",
   "execution_count": null,
   "id": "254b1063-9b74-4b7f-aab3-a128d30629ba",
   "metadata": {},
   "outputs": [],
   "source": []
  }
 ],
 "metadata": {
  "kernelspec": {
   "display_name": "Python 3 (ipykernel)",
   "language": "python",
   "name": "python3"
  },
  "language_info": {
   "codemirror_mode": {
    "name": "ipython",
    "version": 3
   },
   "file_extension": ".py",
   "mimetype": "text/x-python",
   "name": "python",
   "nbconvert_exporter": "python",
   "pygments_lexer": "ipython3",
   "version": "3.7.16"
  }
 },
 "nbformat": 4,
 "nbformat_minor": 5
}
